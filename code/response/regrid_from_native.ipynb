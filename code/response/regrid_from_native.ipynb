{
 "cells": [
  {
   "cell_type": "code",
   "execution_count": 2,
   "id": "7aaba045-9d21-4dcf-a880-18976c1639e3",
   "metadata": {
    "tags": []
   },
   "outputs": [],
   "source": [
    "import numpy as np\n",
    "import xarray as xr\n",
    "import xesmf as xe\n",
    "import glob\n",
    "import os"
   ]
  },
  {
   "cell_type": "code",
   "execution_count": 43,
   "id": "911f0601-49f6-487d-b5be-2338f88e3f76",
   "metadata": {
    "jupyter": {
     "source_hidden": true
    },
    "tags": []
   },
   "outputs": [],
   "source": [
    "def regrid_from_native(expname, varname):\n",
    "    static = \"/work/Katherine.Turner/tempest-extremes/odiv-251/data/tripolar_data/ocean_static.nc\"\n",
    "    fn = \"/work/Katherine.Turner/tempest-extremes/odiv-251/data/tripolar_data/bilinear_540x720_180x360.nc\"\n",
    "\n",
    "    ds_static = xr.open_dataset(static,decode_times=False)\n",
    "    \n",
    "    files_to_regrid = sorted(glob.glob(f\"/work/Katherine.Turner/tempest-extremes/{expname}/data/tripolar_data/*{varname}.nc\"))\n",
    "    \n",
    "    for i in np.arange(1):#len(files_to_regrid)):\n",
    "        # check to see if file exists in output\n",
    "        file_out_tail = files_to_regrid[i].split(\"/\")[-1][:-3]+\".regrid.nc\"\n",
    "        file_out = f\"/work/Katherine.Turner/tempest-extremes/{expname}/data/{file_out_tail}\"  \n",
    "        \n",
    "        if os.path.isfile(file_out):\n",
    "            print(f\"{file_out_tail} exists. Continuing...\")\n",
    "        \n",
    "        else:\n",
    "            print(f\"{file_out_tail} does not exist. Regridding...\")\n",
    "            ds = xr.open_dataset(files_to_regrid[i], use_cftime=True)\n",
    "            \n",
    "            if ('yh' in list(ds.dims)) & ('xh' in list(ds.dims)):\n",
    "                    ds_grid = xr.Dataset({\n",
    "                        \"lon_b\":xr.DataArray(ds_static[\"geolon\"].values[::2,::2],dims=(\"yhb\",\"xhb\")),\n",
    "                        \"lat_b\":xr.DataArray(ds_static[\"geolat\"].values[::2,::2],dims=(\"yhb\",\"xhb\")),\n",
    "                        \"lon\":xr.DataArray(ds_static[\"geolon\"].values[1::2,1::2],dims=(\"yh\",\"xh\")),\n",
    "                        \"lat\":xr.DataArray(ds_static[\"geolat\"].values[1::2,1::2],dims=(\"yh\",\"xh\")),\n",
    "                    })\n",
    "            elif ('yh' in list(ds.dims)) & ('xq' in list(ds.dims)):\n",
    "                    ds_grid = xr.Dataset({\n",
    "                        \"lon_b\":xr.DataArray(ds_static[\"geolon_u\"].values[::2,::2],dims=(\"yhb\",\"xqb\")),\n",
    "                        \"lat_b\":xr.DataArray(ds_static[\"geolat_u\"].values[::2,::2],dims=(\"yhb\",\"xqb\")),\n",
    "                        \"lon\":xr.DataArray(ds_static[\"geolon_u\"].values[1::2,1::2],dims=(\"yh\",\"xq\")),\n",
    "                        \"lat\":xr.DataArray(ds_static[\"geolat_u\"].values[1::2,1::2],dims=(\"yh\",\"xq\")),\n",
    "                    })\n",
    "            elif ('yq' in list(ds.dims)) & ('xh' in list(ds.dims)):\n",
    "                    ds_grid = xr.Dataset({\n",
    "                        \"lon_b\":xr.DataArray(ds_static[\"geolon_v\"].values[::2,::2],dims=(\"yqb\",\"xhb\")),\n",
    "                        \"lat_b\":xr.DataArray(ds_static[\"geolat_v\"].values[::2,::2],dims=(\"yqb\",\"xhb\")),\n",
    "                        \"lon\":xr.DataArray(ds_static[\"geolon_v\"].values[1::2,1::2],dims=(\"yq\",\"xh\")),\n",
    "                        \"lat\":xr.DataArray(ds_static[\"geolat_v\"].values[1::2,1::2],dims=(\"yq\",\"xh\")),\n",
    "                    })\n",
    "            elif ('yq' in list(ds.dims)) & ('xq' in list(ds.dims)):\n",
    "                    ds_grid = xr.Dataset({\n",
    "                        \"lon_b\":xr.DataArray(ds_static[\"geolon_c\"].values[::2,::2],dims=(\"yqb\",\"xqb\")),\n",
    "                        \"lat_b\":xr.DataArray(ds_static[\"geolat_c\"].values[::2,::2],dims=(\"yqb\",\"xqb\")),\n",
    "                        \"lon\":xr.DataArray(ds_static[\"geolon_c\"].values[1::2,1::2],dims=(\"yq\",\"xq\")),\n",
    "                        \"lat\":xr.DataArray(ds_static[\"geolat_c\"].values[1::2,1::2],dims=(\"yq\",\"xq\")),\n",
    "                    })\n",
    "            else:\n",
    "                print(\"Unclear coordinates used for native grid, ignoring\")\n",
    "                return\n",
    "                    \n",
    "                    \n",
    "            ds_interim = xr.Dataset({\n",
    "                varname:ds[varname][:,1::2,1::2].assign_coords({\"time\":ds.time,\"lat\":ds_grid.lat,\"lon\":ds_grid.lon}),\n",
    "                \"lat_b\":ds_grid.lat_b,\n",
    "                \"lon_b\":ds_grid.lon_b,\n",
    "            })\n",
    "            \n",
    "            ycoord = list(ds.dims)[-2]\n",
    "            xcoord = list(ds.dims)[-1]\n",
    "            \n",
    "            ds_interim = ds_interim.assign_coords({xcoord:np.arange(1,len(ds_interim[xcoord])+1), ycoord:np.arange(1,len(ds_interim[ycoord])+1)})\n",
    "            ds_atmos = xe.util.grid_global(1.25, 1)\n",
    "            \n",
    "            regridder = xe.Regridder(ds_interim, ds_atmos, \"bilinear\", weights=fn)\n",
    "            dr_out = regridder(ds_interim[varname], keep_attrs=True)\n",
    "            \n",
    "            ds_out = xr.Dataset({varname:dr_out})\n",
    "            ds_out.to_netcdf(fileout)    "
   ]
  },
  {
   "cell_type": "code",
   "execution_count": 55,
   "id": "45b5ec89-18b9-4430-8179-df6625140caa",
   "metadata": {
    "tags": []
   },
   "outputs": [
    {
     "name": "stdout",
     "output_type": "stream",
     "text": [
      "ocean_daily_gfdl.01510101-01551231.ssv.regrid.nc does not exist. Regridding...\n"
     ]
    }
   ],
   "source": [
    "expname='odiv-251'\n",
    "varname='ssv'\n",
    "    \n",
    "static = \"/work/Katherine.Turner/tempest-extremes/odiv-251/data/tripolar_data/ocean_static.nc\"\n",
    "fn = \"/work/Katherine.Turner/tempest-extremes/odiv-251/data/tripolar_data/bilinear_540x720_180x360.nc\"\n",
    "\n",
    "ds_static = xr.open_dataset(static,decode_times=False)\n",
    "    \n",
    "files_to_regrid = sorted(glob.glob(f\"/work/Katherine.Turner/tempest-extremes/{expname}/data/tripolar_data/*{varname}.nc\"))\n",
    "    \n",
    "for i in np.arange(1):#len(files_to_regrid)):\n",
    "    # check to see if file exists in output\n",
    "    file_out_tail = files_to_regrid[i].split(\"/\")[-1][:-3]+\".regrid.nc\"\n",
    "    file_out = f\"/work/Katherine.Turner/tempest-extremes/{expname}/data/{file_out_tail}\"  \n",
    "        \n",
    "    if os.path.isfile(file_out):\n",
    "        print(f\"{file_out_tail} exists. Continuing...\")\n",
    "        \n",
    "    else:\n",
    "        print(f\"{file_out_tail} does not exist. Regridding...\")\n",
    "        ds = xr.open_dataset(files_to_regrid[i], use_cftime=True)\n",
    "            \n",
    "        if ('yh' in list(ds.dims)) & ('xh' in list(ds.dims)):\n",
    "                ds_grid = xr.Dataset({\n",
    "                    \"lon_b\":xr.DataArray(ds_static[\"geolon\"].values[::2,::2],dims=(\"yhb\",\"xhb\")),\n",
    "                    \"lat_b\":xr.DataArray(ds_static[\"geolat\"].values[::2,::2],dims=(\"yhb\",\"xhb\")),\n",
    "                    \"lon\":xr.DataArray(ds_static[\"geolon\"].values[1::2,1::2],dims=(\"yh\",\"xh\")),\n",
    "                    \"lat\":xr.DataArray(ds_static[\"geolat\"].values[1::2,1::2],dims=(\"yh\",\"xh\")),\n",
    "                })\n",
    "                ds_interim = xr.Dataset({\n",
    "                    varname:ds[varname][:,1::2,1::2].assign_coords({\"time\":ds.time,\"lat\":ds_grid.lat,\"lon\":ds_grid.lon}),\n",
    "                    \"lat_b\":ds_grid.lat_b,\n",
    "                    \"lon_b\":ds_grid.lon_b,\n",
    "                })\n",
    "                ds_interim = ds2.assign_coords({\"xh\":np.arange(1,len(ds_interim.xh)+1), \"yh\":np.arange(1,len(ds_interim.yh)+1)})\n",
    "                \n",
    "        elif ('yh' in list(ds.dims)) & ('xq' in list(ds.dims)):\n",
    "                ds_grid = xr.Dataset({\n",
    "                    \"lon_b\":xr.DataArray(ds_static[\"geolon_u\"].values[::2,::2],dims=(\"yhb\",\"xqb\")),\n",
    "                    \"lat_b\":xr.DataArray(ds_static[\"geolat_u\"].values[::2,::2],dims=(\"yhb\",\"xqb\")),\n",
    "                    \"lon\":xr.DataArray(ds_static[\"geolon_u\"].values[1::2,1::2],dims=(\"yh\",\"xq\")),\n",
    "                    \"lat\":xr.DataArray(ds_static[\"geolat_u\"].values[1::2,1::2],dims=(\"yh\",\"xq\")),\n",
    "                })\n",
    "                \n",
    "        elif ('yq' in list(ds.dims)) & ('xh' in list(ds.dims)):\n",
    "                ds_grid = xr.Dataset({\n",
    "                    \"lon_b\":xr.DataArray(ds_static[\"geolon_v\"].values[::2,::2],dims=(\"yqb\",\"xhb\")),\n",
    "                    \"lat_b\":xr.DataArray(ds_static[\"geolat_v\"].values[::2,::2],dims=(\"yqb\",\"xhb\")),\n",
    "                    \"lon\":xr.DataArray(ds_static[\"geolon_v\"].values[1::2,1::2],dims=(\"yq\",\"xh\")),\n",
    "                    \"lat\":xr.DataArray(ds_static[\"geolat_v\"].values[1::2,1::2],dims=(\"yq\",\"xh\")),\n",
    "                })\n",
    "                ds_interim = xr.Dataset({\n",
    "                    varname:ds[varname][:,1::2,1::2].assign_coords({\"time\":ds.time,\"lat\":ds_grid.lat,\"lon\":ds_grid.lon}),\n",
    "                    \"lat_b\":ds_grid.lat_b,\n",
    "                    \"lon_b\":ds_grid.lon_b,\n",
    "                })\n",
    "                ds_interim = ds2.assign_coords({\"xh\":np.arange(1,len(ds_interim.xh)+1), \"yq\":np.arange(1,len(ds_interim.yq)+1)})\n",
    "                \n",
    "        elif ('yq' in list(ds.dims)) & ('xq' in list(ds.dims)):\n",
    "                ds_grid = xr.Dataset({\n",
    "                    \"lon_b\":xr.DataArray(ds_static[\"geolon_c\"].values[::2,::2],dims=(\"yqb\",\"xqb\")),\n",
    "                    \"lat_b\":xr.DataArray(ds_static[\"geolat_c\"].values[::2,::2],dims=(\"yqb\",\"xqb\")),\n",
    "                    \"lon\":xr.DataArray(ds_static[\"geolon_c\"].values[1::2,1::2],dims=(\"yq\",\"xq\")),\n",
    "                    \"lat\":xr.DataArray(ds_static[\"geolat_c\"].values[1::2,1::2],dims=(\"yq\",\"xq\")),\n",
    "                })\n",
    "        else:\n",
    "            print(\"Unclear coordinates used for native grid, ignoring\")\n",
    "          "
   ]
  },
  {
   "cell_type": "code",
   "execution_count": 66,
   "id": "b1a0ae25-e854-48b2-a977-ad4e81b15059",
   "metadata": {
    "tags": []
   },
   "outputs": [],
   "source": [
    "ds_interim = xr.Dataset({\n",
    "        varname:ds[varname][:,1::2,1::2].assign_coords({\"time\":ds.time,\"lat\":ds_grid.lat,\"lon\":ds_grid.lon}),\n",
    "        \"lat_b\":ds_grid.lat_b,\n",
    "        \"lon_b\":ds_grid.lon_b,\n",
    "    })\n",
    "            \n",
    "ycoord = list(ds.dims)[-2]\n",
    "xcoord = list(ds.dims)[-1]\n",
    "            \n",
    "ds_interim = ds_interim.assign_coords({xcoord:np.arange(1,len(ds_interim[xcoord])+1), ycoord:np.arange(1,len(ds_interim[ycoord])+1)})\n",
    "ds_atmos = xe.util.grid_global(1.25, 1, lon1=60)\n",
    "            "
   ]
  },
  {
   "cell_type": "code",
   "execution_count": 72,
   "id": "0a748e23-5077-477d-83f8-ecba29c8c34c",
   "metadata": {
    "tags": []
   },
   "outputs": [
    {
     "data": {
      "text/plain": [
       "'yq'"
      ]
     },
     "execution_count": 72,
     "metadata": {},
     "output_type": "execute_result"
    }
   ],
   "source": [
    "ycoord"
   ]
  },
  {
   "cell_type": "code",
   "execution_count": 73,
   "id": "cc490638-62d0-44c6-82ba-bca47ab2f41b",
   "metadata": {
    "tags": []
   },
   "outputs": [
    {
     "ename": "ValueError",
     "evalue": "invalid entry in coordinates array",
     "output_type": "error",
     "traceback": [
      "\u001b[0;31m---------------------------------------------------------------------------\u001b[0m",
      "\u001b[0;31mValueError\u001b[0m                                Traceback (most recent call last)",
      "Cell \u001b[0;32mIn[73], line 1\u001b[0m\n\u001b[0;32m----> 1\u001b[0m regridder \u001b[38;5;241m=\u001b[39m \u001b[43mxe\u001b[49m\u001b[38;5;241;43m.\u001b[39;49m\u001b[43mRegridder\u001b[49m\u001b[43m(\u001b[49m\u001b[43mds_interim\u001b[49m\u001b[43m,\u001b[49m\u001b[43m \u001b[49m\u001b[43mds_atmos\u001b[49m\u001b[43m,\u001b[49m\u001b[43m \u001b[49m\u001b[38;5;124;43m\"\u001b[39;49m\u001b[38;5;124;43mbilinear\u001b[39;49m\u001b[38;5;124;43m\"\u001b[39;49m\u001b[43m,\u001b[49m\u001b[43m \u001b[49m\u001b[43mweights\u001b[49m\u001b[38;5;241;43m=\u001b[39;49m\u001b[43mfn\u001b[49m\u001b[43m)\u001b[49m\n\u001b[1;32m      2\u001b[0m dr_out \u001b[38;5;241m=\u001b[39m regridder(ds_interim[varname], keep_attrs\u001b[38;5;241m=\u001b[39m\u001b[38;5;28;01mTrue\u001b[39;00m)\n",
      "File \u001b[0;32m/nbhome/Katherine.Turner/miniconda3/envs/py310/lib/python3.10/site-packages/xesmf/frontend.py:782\u001b[0m, in \u001b[0;36mRegridder.__init__\u001b[0;34m(self, ds_in, ds_out, method, locstream_in, locstream_out, periodic, **kwargs)\u001b[0m\n\u001b[1;32m    779\u001b[0m     grid_out, shape_out, _ \u001b[38;5;241m=\u001b[39m ds_to_ESMFgrid(ds_out, need_bounds\u001b[38;5;241m=\u001b[39mneed_bounds)\n\u001b[1;32m    781\u001b[0m \u001b[38;5;66;03m# Create the BaseRegridder\u001b[39;00m\n\u001b[0;32m--> 782\u001b[0m \u001b[38;5;28;43msuper\u001b[39;49m\u001b[43m(\u001b[49m\u001b[43m)\u001b[49m\u001b[38;5;241;43m.\u001b[39;49m\u001b[38;5;21;43m__init__\u001b[39;49m\u001b[43m(\u001b[49m\u001b[43mgrid_in\u001b[49m\u001b[43m,\u001b[49m\u001b[43m \u001b[49m\u001b[43mgrid_out\u001b[49m\u001b[43m,\u001b[49m\u001b[43m \u001b[49m\u001b[43mmethod\u001b[49m\u001b[43m,\u001b[49m\u001b[43m \u001b[49m\u001b[43minput_dims\u001b[49m\u001b[38;5;241;43m=\u001b[39;49m\u001b[43minput_dims\u001b[49m\u001b[43m,\u001b[49m\u001b[43m \u001b[49m\u001b[38;5;241;43m*\u001b[39;49m\u001b[38;5;241;43m*\u001b[39;49m\u001b[43mkwargs\u001b[49m\u001b[43m)\u001b[49m\n\u001b[1;32m    784\u001b[0m \u001b[38;5;66;03m# record output grid and metadata\u001b[39;00m\n\u001b[1;32m    785\u001b[0m lon_out, lat_out \u001b[38;5;241m=\u001b[39m _get_lon_lat(ds_out)\n",
      "File \u001b[0;32m/nbhome/Katherine.Turner/miniconda3/envs/py310/lib/python3.10/site-packages/xesmf/frontend.py:331\u001b[0m, in \u001b[0;36mBaseRegridder.__init__\u001b[0;34m(self, grid_in, grid_out, method, filename, reuse_weights, extrap_method, extrap_dist_exponent, extrap_num_src_pnts, weights, ignore_degenerate, input_dims, unmapped_to_nan)\u001b[0m\n\u001b[1;32m    328\u001b[0m \u001b[38;5;28;01massert\u001b[39;00m weights \u001b[38;5;129;01mis\u001b[39;00m \u001b[38;5;129;01mnot\u001b[39;00m \u001b[38;5;28;01mNone\u001b[39;00m\n\u001b[1;32m    330\u001b[0m \u001b[38;5;66;03m# Convert weights, whatever their format, to a sparse coo matrix\u001b[39;00m\n\u001b[0;32m--> 331\u001b[0m \u001b[38;5;28mself\u001b[39m\u001b[38;5;241m.\u001b[39mweights \u001b[38;5;241m=\u001b[39m \u001b[43mread_weights\u001b[49m\u001b[43m(\u001b[49m\u001b[43mweights\u001b[49m\u001b[43m,\u001b[49m\u001b[43m \u001b[49m\u001b[38;5;28;43mself\u001b[39;49m\u001b[38;5;241;43m.\u001b[39;49m\u001b[43mn_in\u001b[49m\u001b[43m,\u001b[49m\u001b[43m \u001b[49m\u001b[38;5;28;43mself\u001b[39;49m\u001b[38;5;241;43m.\u001b[39;49m\u001b[43mn_out\u001b[49m\u001b[43m)\u001b[49m\n\u001b[1;32m    333\u001b[0m \u001b[38;5;66;03m# replace zeros by NaN for weight matrix entries of unmapped target cells if specified or a mask is present\u001b[39;00m\n\u001b[1;32m    334\u001b[0m \u001b[38;5;28;01mif\u001b[39;00m (\n\u001b[1;32m    335\u001b[0m     (\u001b[38;5;28mself\u001b[39m\u001b[38;5;241m.\u001b[39mgrid_out\u001b[38;5;241m.\u001b[39mmask \u001b[38;5;129;01mis\u001b[39;00m \u001b[38;5;129;01mnot\u001b[39;00m \u001b[38;5;28;01mNone\u001b[39;00m) \u001b[38;5;129;01mand\u001b[39;00m (\u001b[38;5;28mself\u001b[39m\u001b[38;5;241m.\u001b[39mgrid_out\u001b[38;5;241m.\u001b[39mmask[\u001b[38;5;241m0\u001b[39m] \u001b[38;5;129;01mis\u001b[39;00m \u001b[38;5;129;01mnot\u001b[39;00m \u001b[38;5;28;01mNone\u001b[39;00m)\n\u001b[1;32m    336\u001b[0m ) \u001b[38;5;129;01mor\u001b[39;00m unmapped_to_nan \u001b[38;5;129;01mis\u001b[39;00m \u001b[38;5;28;01mTrue\u001b[39;00m:\n",
      "File \u001b[0;32m/nbhome/Katherine.Turner/miniconda3/envs/py310/lib/python3.10/site-packages/xesmf/smm.py:41\u001b[0m, in \u001b[0;36mread_weights\u001b[0;34m(weights, n_in, n_out)\u001b[0m\n\u001b[1;32m     14\u001b[0m \u001b[38;5;250m\u001b[39m\u001b[38;5;124;03m\"\"\"\u001b[39;00m\n\u001b[1;32m     15\u001b[0m \u001b[38;5;124;03mRead regridding weights into a DataArray (sparse COO matrix).\u001b[39;00m\n\u001b[1;32m     16\u001b[0m \n\u001b[0;32m   (...)\u001b[0m\n\u001b[1;32m     38\u001b[0m \u001b[38;5;124;03m  and size (n_out, n_in).\u001b[39;00m\n\u001b[1;32m     39\u001b[0m \u001b[38;5;124;03m\"\"\"\u001b[39;00m\n\u001b[1;32m     40\u001b[0m \u001b[38;5;28;01mif\u001b[39;00m \u001b[38;5;28misinstance\u001b[39m(weights, (\u001b[38;5;28mstr\u001b[39m, Path, xr\u001b[38;5;241m.\u001b[39mDataset, \u001b[38;5;28mdict\u001b[39m)):\n\u001b[0;32m---> 41\u001b[0m     weights \u001b[38;5;241m=\u001b[39m \u001b[43m_parse_coords_and_values\u001b[49m\u001b[43m(\u001b[49m\u001b[43mweights\u001b[49m\u001b[43m,\u001b[49m\u001b[43m \u001b[49m\u001b[43mn_in\u001b[49m\u001b[43m,\u001b[49m\u001b[43m \u001b[49m\u001b[43mn_out\u001b[49m\u001b[43m)\u001b[49m\n\u001b[1;32m     43\u001b[0m \u001b[38;5;28;01melif\u001b[39;00m \u001b[38;5;28misinstance\u001b[39m(weights, sps\u001b[38;5;241m.\u001b[39mCOO):\n\u001b[1;32m     44\u001b[0m     weights \u001b[38;5;241m=\u001b[39m xr\u001b[38;5;241m.\u001b[39mDataArray(weights, dims\u001b[38;5;241m=\u001b[39m(\u001b[38;5;124m'\u001b[39m\u001b[38;5;124mout_dim\u001b[39m\u001b[38;5;124m'\u001b[39m, \u001b[38;5;124m'\u001b[39m\u001b[38;5;124min_dim\u001b[39m\u001b[38;5;124m'\u001b[39m), name\u001b[38;5;241m=\u001b[39m\u001b[38;5;124m'\u001b[39m\u001b[38;5;124mweights\u001b[39m\u001b[38;5;124m'\u001b[39m)\n",
      "File \u001b[0;32m/nbhome/Katherine.Turner/miniconda3/envs/py310/lib/python3.10/site-packages/xesmf/smm.py:100\u001b[0m, in \u001b[0;36m_parse_coords_and_values\u001b[0;34m(indata, n_in, n_out)\u001b[0m\n\u001b[1;32m     97\u001b[0m     s \u001b[38;5;241m=\u001b[39m indata[\u001b[38;5;124m'\u001b[39m\u001b[38;5;124mweights\u001b[39m\u001b[38;5;124m'\u001b[39m]\n\u001b[1;32m     99\u001b[0m crds \u001b[38;5;241m=\u001b[39m np\u001b[38;5;241m.\u001b[39mstack([row, col])\n\u001b[0;32m--> 100\u001b[0m \u001b[38;5;28;01mreturn\u001b[39;00m xr\u001b[38;5;241m.\u001b[39mDataArray(\u001b[43msps\u001b[49m\u001b[38;5;241;43m.\u001b[39;49m\u001b[43mCOO\u001b[49m\u001b[43m(\u001b[49m\u001b[43mcrds\u001b[49m\u001b[43m,\u001b[49m\u001b[43m \u001b[49m\u001b[43ms\u001b[49m\u001b[43m,\u001b[49m\u001b[43m \u001b[49m\u001b[43m(\u001b[49m\u001b[43mn_out\u001b[49m\u001b[43m,\u001b[49m\u001b[43m \u001b[49m\u001b[43mn_in\u001b[49m\u001b[43m)\u001b[49m\u001b[43m)\u001b[49m, dims\u001b[38;5;241m=\u001b[39m(\u001b[38;5;124m'\u001b[39m\u001b[38;5;124mout_dim\u001b[39m\u001b[38;5;124m'\u001b[39m, \u001b[38;5;124m'\u001b[39m\u001b[38;5;124min_dim\u001b[39m\u001b[38;5;124m'\u001b[39m), name\u001b[38;5;241m=\u001b[39m\u001b[38;5;124m'\u001b[39m\u001b[38;5;124mweights\u001b[39m\u001b[38;5;124m'\u001b[39m)\n",
      "File \u001b[0;32m/nbhome/Katherine.Turner/miniconda3/envs/py310/lib/python3.10/site-packages/sparse/_coo/core.py:307\u001b[0m, in \u001b[0;36mCOO.__init__\u001b[0;34m(self, coords, data, shape, has_duplicates, sorted, prune, cache, fill_value, idx_dtype)\u001b[0m\n\u001b[1;32m    299\u001b[0m     warnings\u001b[38;5;241m.\u001b[39mwarn(\n\u001b[1;32m    300\u001b[0m         \u001b[38;5;124m\"\u001b[39m\u001b[38;5;124mAttempting to create a sparse array that takes no less \u001b[39m\u001b[38;5;124m\"\u001b[39m\n\u001b[1;32m    301\u001b[0m         \u001b[38;5;124m\"\u001b[39m\u001b[38;5;124mmemory than than an equivalent dense array. You may want to \u001b[39m\u001b[38;5;124m\"\u001b[39m\n\u001b[1;32m    302\u001b[0m         \u001b[38;5;124m\"\u001b[39m\u001b[38;5;124muse a dense array here instead.\u001b[39m\u001b[38;5;124m\"\u001b[39m,\n\u001b[1;32m    303\u001b[0m         \u001b[38;5;167;01mRuntimeWarning\u001b[39;00m,\n\u001b[1;32m    304\u001b[0m     )\n\u001b[1;32m    306\u001b[0m \u001b[38;5;28;01mif\u001b[39;00m \u001b[38;5;129;01mnot\u001b[39;00m \u001b[38;5;28msorted\u001b[39m:\n\u001b[0;32m--> 307\u001b[0m     \u001b[38;5;28;43mself\u001b[39;49m\u001b[38;5;241;43m.\u001b[39;49m\u001b[43m_sort_indices\u001b[49m\u001b[43m(\u001b[49m\u001b[43m)\u001b[49m\n\u001b[1;32m    309\u001b[0m \u001b[38;5;28;01mif\u001b[39;00m has_duplicates:\n\u001b[1;32m    310\u001b[0m     \u001b[38;5;28mself\u001b[39m\u001b[38;5;241m.\u001b[39m_sum_duplicates()\n",
      "File \u001b[0;32m/nbhome/Katherine.Turner/miniconda3/envs/py310/lib/python3.10/site-packages/sparse/_coo/core.py:1278\u001b[0m, in \u001b[0;36mCOO._sort_indices\u001b[0;34m(self)\u001b[0m\n\u001b[1;32m   1262\u001b[0m \u001b[38;5;28;01mdef\u001b[39;00m \u001b[38;5;21m_sort_indices\u001b[39m(\u001b[38;5;28mself\u001b[39m):\n\u001b[1;32m   1263\u001b[0m \u001b[38;5;250m    \u001b[39m\u001b[38;5;124;03m\"\"\"\u001b[39;00m\n\u001b[1;32m   1264\u001b[0m \u001b[38;5;124;03m    Sorts the :obj:`COO.coords` attribute. Also sorts the data in\u001b[39;00m\n\u001b[1;32m   1265\u001b[0m \u001b[38;5;124;03m    :obj:`COO.data` to match.\u001b[39;00m\n\u001b[0;32m   (...)\u001b[0m\n\u001b[1;32m   1276\u001b[0m \u001b[38;5;124;03m    array([3, 4, 1], dtype=uint8)\u001b[39;00m\n\u001b[1;32m   1277\u001b[0m \u001b[38;5;124;03m    \"\"\"\u001b[39;00m\n\u001b[0;32m-> 1278\u001b[0m     linear \u001b[38;5;241m=\u001b[39m \u001b[38;5;28;43mself\u001b[39;49m\u001b[38;5;241;43m.\u001b[39;49m\u001b[43mlinear_loc\u001b[49m\u001b[43m(\u001b[49m\u001b[43m)\u001b[49m\n\u001b[1;32m   1280\u001b[0m     \u001b[38;5;28;01mif\u001b[39;00m (np\u001b[38;5;241m.\u001b[39mdiff(linear) \u001b[38;5;241m>\u001b[39m\u001b[38;5;241m=\u001b[39m \u001b[38;5;241m0\u001b[39m)\u001b[38;5;241m.\u001b[39mall():  \u001b[38;5;66;03m# already sorted\u001b[39;00m\n\u001b[1;32m   1281\u001b[0m         \u001b[38;5;28;01mreturn\u001b[39;00m\n",
      "File \u001b[0;32m/nbhome/Katherine.Turner/miniconda3/envs/py310/lib/python3.10/site-packages/sparse/_coo/core.py:974\u001b[0m, in \u001b[0;36mCOO.linear_loc\u001b[0;34m(self)\u001b[0m\n\u001b[1;32m    950\u001b[0m \u001b[38;5;250m\u001b[39m\u001b[38;5;124;03m\"\"\"\u001b[39;00m\n\u001b[1;32m    951\u001b[0m \u001b[38;5;124;03mThe nonzero coordinates of a flattened version of this array. Note that\u001b[39;00m\n\u001b[1;32m    952\u001b[0m \u001b[38;5;124;03mthe coordinates may be out of order.\u001b[39;00m\n\u001b[0;32m   (...)\u001b[0m\n\u001b[1;32m    970\u001b[0m \u001b[38;5;124;03mTrue\u001b[39;00m\n\u001b[1;32m    971\u001b[0m \u001b[38;5;124;03m\"\"\"\u001b[39;00m\n\u001b[1;32m    972\u001b[0m \u001b[38;5;28;01mfrom\u001b[39;00m \u001b[38;5;21;01m.\u001b[39;00m\u001b[38;5;21;01mcommon\u001b[39;00m \u001b[38;5;28;01mimport\u001b[39;00m linear_loc\n\u001b[0;32m--> 974\u001b[0m \u001b[38;5;28;01mreturn\u001b[39;00m \u001b[43mlinear_loc\u001b[49m\u001b[43m(\u001b[49m\u001b[38;5;28;43mself\u001b[39;49m\u001b[38;5;241;43m.\u001b[39;49m\u001b[43mcoords\u001b[49m\u001b[43m,\u001b[49m\u001b[43m \u001b[49m\u001b[38;5;28;43mself\u001b[39;49m\u001b[38;5;241;43m.\u001b[39;49m\u001b[43mshape\u001b[49m\u001b[43m)\u001b[49m\n",
      "File \u001b[0;32m/nbhome/Katherine.Turner/miniconda3/envs/py310/lib/python3.10/site-packages/sparse/_coo/common.py:65\u001b[0m, in \u001b[0;36mlinear_loc\u001b[0;34m(coords, shape)\u001b[0m\n\u001b[1;32m     63\u001b[0m     \u001b[38;5;28;01mreturn\u001b[39;00m np\u001b[38;5;241m.\u001b[39mzeros(coords\u001b[38;5;241m.\u001b[39mshape[\u001b[38;5;241m1\u001b[39m:], dtype\u001b[38;5;241m=\u001b[39mnp\u001b[38;5;241m.\u001b[39mintp)\n\u001b[1;32m     64\u001b[0m \u001b[38;5;28;01melse\u001b[39;00m:\n\u001b[0;32m---> 65\u001b[0m     \u001b[38;5;28;01mreturn\u001b[39;00m \u001b[43mnp\u001b[49m\u001b[38;5;241;43m.\u001b[39;49m\u001b[43mravel_multi_index\u001b[49m\u001b[43m(\u001b[49m\u001b[43mcoords\u001b[49m\u001b[43m,\u001b[49m\u001b[43m \u001b[49m\u001b[43mshape\u001b[49m\u001b[43m)\u001b[49m\n",
      "File \u001b[0;32m<__array_function__ internals>:180\u001b[0m, in \u001b[0;36mravel_multi_index\u001b[0;34m(*args, **kwargs)\u001b[0m\n",
      "\u001b[0;31mValueError\u001b[0m: invalid entry in coordinates array"
     ]
    }
   ],
   "source": [
    "regridder = xe.Regridder(ds_interim, ds_atmos, \"bilinear\", weights=fn)\n",
    "dr_out = regridder(ds_interim[varname], keep_attrs=True)\n",
    "         "
   ]
  },
  {
   "cell_type": "code",
   "execution_count": 69,
   "id": "2ef56624-7c78-4f4d-8aed-4331400f0df6",
   "metadata": {
    "tags": []
   },
   "outputs": [
    {
     "name": "stderr",
     "output_type": "stream",
     "text": [
      "/nbhome/Katherine.Turner/miniconda3/envs/py310/lib/python3.10/site-packages/xesmf/backend.py:41: UserWarning: Input array is not F_CONTIGUOUS. Will affect performance.\n",
      "  warnings.warn('Input array is not F_CONTIGUOUS. ' 'Will affect performance.')\n"
     ]
    },
    {
     "ename": "ValueError",
     "evalue": "invalid entry in coordinates array",
     "output_type": "error",
     "traceback": [
      "\u001b[0;31m---------------------------------------------------------------------------\u001b[0m",
      "\u001b[0;31mValueError\u001b[0m                                Traceback (most recent call last)",
      "Cell \u001b[0;32mIn[69], line 1\u001b[0m\n\u001b[0;32m----> 1\u001b[0m regridder \u001b[38;5;241m=\u001b[39m \u001b[43mxe\u001b[49m\u001b[38;5;241;43m.\u001b[39;49m\u001b[43mRegridder\u001b[49m\u001b[43m(\u001b[49m\u001b[43mds_interim\u001b[49m\u001b[43m,\u001b[49m\u001b[43m \u001b[49m\u001b[43mds_atmos\u001b[49m\u001b[43m,\u001b[49m\u001b[43m \u001b[49m\u001b[38;5;124;43m\"\u001b[39;49m\u001b[38;5;124;43mbilinear\u001b[39;49m\u001b[38;5;124;43m\"\u001b[39;49m\u001b[43m,\u001b[49m\u001b[43m \u001b[49m\u001b[43mweights\u001b[49m\u001b[38;5;241;43m=\u001b[39;49m\u001b[43mfn\u001b[49m\u001b[43m)\u001b[49m\n\u001b[1;32m      2\u001b[0m dr_out \u001b[38;5;241m=\u001b[39m regridder(ds_interim[varname], keep_attrs\u001b[38;5;241m=\u001b[39m\u001b[38;5;28;01mTrue\u001b[39;00m)\n\u001b[1;32m      4\u001b[0m ds_out \u001b[38;5;241m=\u001b[39m xr\u001b[38;5;241m.\u001b[39mDataset({varname:dr_out})\n",
      "File \u001b[0;32m/nbhome/Katherine.Turner/miniconda3/envs/py310/lib/python3.10/site-packages/xesmf/frontend.py:782\u001b[0m, in \u001b[0;36mRegridder.__init__\u001b[0;34m(self, ds_in, ds_out, method, locstream_in, locstream_out, periodic, **kwargs)\u001b[0m\n\u001b[1;32m    779\u001b[0m     grid_out, shape_out, _ \u001b[38;5;241m=\u001b[39m ds_to_ESMFgrid(ds_out, need_bounds\u001b[38;5;241m=\u001b[39mneed_bounds)\n\u001b[1;32m    781\u001b[0m \u001b[38;5;66;03m# Create the BaseRegridder\u001b[39;00m\n\u001b[0;32m--> 782\u001b[0m \u001b[38;5;28;43msuper\u001b[39;49m\u001b[43m(\u001b[49m\u001b[43m)\u001b[49m\u001b[38;5;241;43m.\u001b[39;49m\u001b[38;5;21;43m__init__\u001b[39;49m\u001b[43m(\u001b[49m\u001b[43mgrid_in\u001b[49m\u001b[43m,\u001b[49m\u001b[43m \u001b[49m\u001b[43mgrid_out\u001b[49m\u001b[43m,\u001b[49m\u001b[43m \u001b[49m\u001b[43mmethod\u001b[49m\u001b[43m,\u001b[49m\u001b[43m \u001b[49m\u001b[43minput_dims\u001b[49m\u001b[38;5;241;43m=\u001b[39;49m\u001b[43minput_dims\u001b[49m\u001b[43m,\u001b[49m\u001b[43m \u001b[49m\u001b[38;5;241;43m*\u001b[39;49m\u001b[38;5;241;43m*\u001b[39;49m\u001b[43mkwargs\u001b[49m\u001b[43m)\u001b[49m\n\u001b[1;32m    784\u001b[0m \u001b[38;5;66;03m# record output grid and metadata\u001b[39;00m\n\u001b[1;32m    785\u001b[0m lon_out, lat_out \u001b[38;5;241m=\u001b[39m _get_lon_lat(ds_out)\n",
      "File \u001b[0;32m/nbhome/Katherine.Turner/miniconda3/envs/py310/lib/python3.10/site-packages/xesmf/frontend.py:331\u001b[0m, in \u001b[0;36mBaseRegridder.__init__\u001b[0;34m(self, grid_in, grid_out, method, filename, reuse_weights, extrap_method, extrap_dist_exponent, extrap_num_src_pnts, weights, ignore_degenerate, input_dims, unmapped_to_nan)\u001b[0m\n\u001b[1;32m    328\u001b[0m \u001b[38;5;28;01massert\u001b[39;00m weights \u001b[38;5;129;01mis\u001b[39;00m \u001b[38;5;129;01mnot\u001b[39;00m \u001b[38;5;28;01mNone\u001b[39;00m\n\u001b[1;32m    330\u001b[0m \u001b[38;5;66;03m# Convert weights, whatever their format, to a sparse coo matrix\u001b[39;00m\n\u001b[0;32m--> 331\u001b[0m \u001b[38;5;28mself\u001b[39m\u001b[38;5;241m.\u001b[39mweights \u001b[38;5;241m=\u001b[39m \u001b[43mread_weights\u001b[49m\u001b[43m(\u001b[49m\u001b[43mweights\u001b[49m\u001b[43m,\u001b[49m\u001b[43m \u001b[49m\u001b[38;5;28;43mself\u001b[39;49m\u001b[38;5;241;43m.\u001b[39;49m\u001b[43mn_in\u001b[49m\u001b[43m,\u001b[49m\u001b[43m \u001b[49m\u001b[38;5;28;43mself\u001b[39;49m\u001b[38;5;241;43m.\u001b[39;49m\u001b[43mn_out\u001b[49m\u001b[43m)\u001b[49m\n\u001b[1;32m    333\u001b[0m \u001b[38;5;66;03m# replace zeros by NaN for weight matrix entries of unmapped target cells if specified or a mask is present\u001b[39;00m\n\u001b[1;32m    334\u001b[0m \u001b[38;5;28;01mif\u001b[39;00m (\n\u001b[1;32m    335\u001b[0m     (\u001b[38;5;28mself\u001b[39m\u001b[38;5;241m.\u001b[39mgrid_out\u001b[38;5;241m.\u001b[39mmask \u001b[38;5;129;01mis\u001b[39;00m \u001b[38;5;129;01mnot\u001b[39;00m \u001b[38;5;28;01mNone\u001b[39;00m) \u001b[38;5;129;01mand\u001b[39;00m (\u001b[38;5;28mself\u001b[39m\u001b[38;5;241m.\u001b[39mgrid_out\u001b[38;5;241m.\u001b[39mmask[\u001b[38;5;241m0\u001b[39m] \u001b[38;5;129;01mis\u001b[39;00m \u001b[38;5;129;01mnot\u001b[39;00m \u001b[38;5;28;01mNone\u001b[39;00m)\n\u001b[1;32m    336\u001b[0m ) \u001b[38;5;129;01mor\u001b[39;00m unmapped_to_nan \u001b[38;5;129;01mis\u001b[39;00m \u001b[38;5;28;01mTrue\u001b[39;00m:\n",
      "File \u001b[0;32m/nbhome/Katherine.Turner/miniconda3/envs/py310/lib/python3.10/site-packages/xesmf/smm.py:41\u001b[0m, in \u001b[0;36mread_weights\u001b[0;34m(weights, n_in, n_out)\u001b[0m\n\u001b[1;32m     14\u001b[0m \u001b[38;5;250m\u001b[39m\u001b[38;5;124;03m\"\"\"\u001b[39;00m\n\u001b[1;32m     15\u001b[0m \u001b[38;5;124;03mRead regridding weights into a DataArray (sparse COO matrix).\u001b[39;00m\n\u001b[1;32m     16\u001b[0m \n\u001b[0;32m   (...)\u001b[0m\n\u001b[1;32m     38\u001b[0m \u001b[38;5;124;03m  and size (n_out, n_in).\u001b[39;00m\n\u001b[1;32m     39\u001b[0m \u001b[38;5;124;03m\"\"\"\u001b[39;00m\n\u001b[1;32m     40\u001b[0m \u001b[38;5;28;01mif\u001b[39;00m \u001b[38;5;28misinstance\u001b[39m(weights, (\u001b[38;5;28mstr\u001b[39m, Path, xr\u001b[38;5;241m.\u001b[39mDataset, \u001b[38;5;28mdict\u001b[39m)):\n\u001b[0;32m---> 41\u001b[0m     weights \u001b[38;5;241m=\u001b[39m \u001b[43m_parse_coords_and_values\u001b[49m\u001b[43m(\u001b[49m\u001b[43mweights\u001b[49m\u001b[43m,\u001b[49m\u001b[43m \u001b[49m\u001b[43mn_in\u001b[49m\u001b[43m,\u001b[49m\u001b[43m \u001b[49m\u001b[43mn_out\u001b[49m\u001b[43m)\u001b[49m\n\u001b[1;32m     43\u001b[0m \u001b[38;5;28;01melif\u001b[39;00m \u001b[38;5;28misinstance\u001b[39m(weights, sps\u001b[38;5;241m.\u001b[39mCOO):\n\u001b[1;32m     44\u001b[0m     weights \u001b[38;5;241m=\u001b[39m xr\u001b[38;5;241m.\u001b[39mDataArray(weights, dims\u001b[38;5;241m=\u001b[39m(\u001b[38;5;124m'\u001b[39m\u001b[38;5;124mout_dim\u001b[39m\u001b[38;5;124m'\u001b[39m, \u001b[38;5;124m'\u001b[39m\u001b[38;5;124min_dim\u001b[39m\u001b[38;5;124m'\u001b[39m), name\u001b[38;5;241m=\u001b[39m\u001b[38;5;124m'\u001b[39m\u001b[38;5;124mweights\u001b[39m\u001b[38;5;124m'\u001b[39m)\n",
      "File \u001b[0;32m/nbhome/Katherine.Turner/miniconda3/envs/py310/lib/python3.10/site-packages/xesmf/smm.py:100\u001b[0m, in \u001b[0;36m_parse_coords_and_values\u001b[0;34m(indata, n_in, n_out)\u001b[0m\n\u001b[1;32m     97\u001b[0m     s \u001b[38;5;241m=\u001b[39m indata[\u001b[38;5;124m'\u001b[39m\u001b[38;5;124mweights\u001b[39m\u001b[38;5;124m'\u001b[39m]\n\u001b[1;32m     99\u001b[0m crds \u001b[38;5;241m=\u001b[39m np\u001b[38;5;241m.\u001b[39mstack([row, col])\n\u001b[0;32m--> 100\u001b[0m \u001b[38;5;28;01mreturn\u001b[39;00m xr\u001b[38;5;241m.\u001b[39mDataArray(\u001b[43msps\u001b[49m\u001b[38;5;241;43m.\u001b[39;49m\u001b[43mCOO\u001b[49m\u001b[43m(\u001b[49m\u001b[43mcrds\u001b[49m\u001b[43m,\u001b[49m\u001b[43m \u001b[49m\u001b[43ms\u001b[49m\u001b[43m,\u001b[49m\u001b[43m \u001b[49m\u001b[43m(\u001b[49m\u001b[43mn_out\u001b[49m\u001b[43m,\u001b[49m\u001b[43m \u001b[49m\u001b[43mn_in\u001b[49m\u001b[43m)\u001b[49m\u001b[43m)\u001b[49m, dims\u001b[38;5;241m=\u001b[39m(\u001b[38;5;124m'\u001b[39m\u001b[38;5;124mout_dim\u001b[39m\u001b[38;5;124m'\u001b[39m, \u001b[38;5;124m'\u001b[39m\u001b[38;5;124min_dim\u001b[39m\u001b[38;5;124m'\u001b[39m), name\u001b[38;5;241m=\u001b[39m\u001b[38;5;124m'\u001b[39m\u001b[38;5;124mweights\u001b[39m\u001b[38;5;124m'\u001b[39m)\n",
      "File \u001b[0;32m/nbhome/Katherine.Turner/miniconda3/envs/py310/lib/python3.10/site-packages/sparse/_coo/core.py:307\u001b[0m, in \u001b[0;36mCOO.__init__\u001b[0;34m(self, coords, data, shape, has_duplicates, sorted, prune, cache, fill_value, idx_dtype)\u001b[0m\n\u001b[1;32m    299\u001b[0m     warnings\u001b[38;5;241m.\u001b[39mwarn(\n\u001b[1;32m    300\u001b[0m         \u001b[38;5;124m\"\u001b[39m\u001b[38;5;124mAttempting to create a sparse array that takes no less \u001b[39m\u001b[38;5;124m\"\u001b[39m\n\u001b[1;32m    301\u001b[0m         \u001b[38;5;124m\"\u001b[39m\u001b[38;5;124mmemory than than an equivalent dense array. You may want to \u001b[39m\u001b[38;5;124m\"\u001b[39m\n\u001b[1;32m    302\u001b[0m         \u001b[38;5;124m\"\u001b[39m\u001b[38;5;124muse a dense array here instead.\u001b[39m\u001b[38;5;124m\"\u001b[39m,\n\u001b[1;32m    303\u001b[0m         \u001b[38;5;167;01mRuntimeWarning\u001b[39;00m,\n\u001b[1;32m    304\u001b[0m     )\n\u001b[1;32m    306\u001b[0m \u001b[38;5;28;01mif\u001b[39;00m \u001b[38;5;129;01mnot\u001b[39;00m \u001b[38;5;28msorted\u001b[39m:\n\u001b[0;32m--> 307\u001b[0m     \u001b[38;5;28;43mself\u001b[39;49m\u001b[38;5;241;43m.\u001b[39;49m\u001b[43m_sort_indices\u001b[49m\u001b[43m(\u001b[49m\u001b[43m)\u001b[49m\n\u001b[1;32m    309\u001b[0m \u001b[38;5;28;01mif\u001b[39;00m has_duplicates:\n\u001b[1;32m    310\u001b[0m     \u001b[38;5;28mself\u001b[39m\u001b[38;5;241m.\u001b[39m_sum_duplicates()\n",
      "File \u001b[0;32m/nbhome/Katherine.Turner/miniconda3/envs/py310/lib/python3.10/site-packages/sparse/_coo/core.py:1278\u001b[0m, in \u001b[0;36mCOO._sort_indices\u001b[0;34m(self)\u001b[0m\n\u001b[1;32m   1262\u001b[0m \u001b[38;5;28;01mdef\u001b[39;00m \u001b[38;5;21m_sort_indices\u001b[39m(\u001b[38;5;28mself\u001b[39m):\n\u001b[1;32m   1263\u001b[0m \u001b[38;5;250m    \u001b[39m\u001b[38;5;124;03m\"\"\"\u001b[39;00m\n\u001b[1;32m   1264\u001b[0m \u001b[38;5;124;03m    Sorts the :obj:`COO.coords` attribute. Also sorts the data in\u001b[39;00m\n\u001b[1;32m   1265\u001b[0m \u001b[38;5;124;03m    :obj:`COO.data` to match.\u001b[39;00m\n\u001b[0;32m   (...)\u001b[0m\n\u001b[1;32m   1276\u001b[0m \u001b[38;5;124;03m    array([3, 4, 1], dtype=uint8)\u001b[39;00m\n\u001b[1;32m   1277\u001b[0m \u001b[38;5;124;03m    \"\"\"\u001b[39;00m\n\u001b[0;32m-> 1278\u001b[0m     linear \u001b[38;5;241m=\u001b[39m \u001b[38;5;28;43mself\u001b[39;49m\u001b[38;5;241;43m.\u001b[39;49m\u001b[43mlinear_loc\u001b[49m\u001b[43m(\u001b[49m\u001b[43m)\u001b[49m\n\u001b[1;32m   1280\u001b[0m     \u001b[38;5;28;01mif\u001b[39;00m (np\u001b[38;5;241m.\u001b[39mdiff(linear) \u001b[38;5;241m>\u001b[39m\u001b[38;5;241m=\u001b[39m \u001b[38;5;241m0\u001b[39m)\u001b[38;5;241m.\u001b[39mall():  \u001b[38;5;66;03m# already sorted\u001b[39;00m\n\u001b[1;32m   1281\u001b[0m         \u001b[38;5;28;01mreturn\u001b[39;00m\n",
      "File \u001b[0;32m/nbhome/Katherine.Turner/miniconda3/envs/py310/lib/python3.10/site-packages/sparse/_coo/core.py:974\u001b[0m, in \u001b[0;36mCOO.linear_loc\u001b[0;34m(self)\u001b[0m\n\u001b[1;32m    950\u001b[0m \u001b[38;5;250m\u001b[39m\u001b[38;5;124;03m\"\"\"\u001b[39;00m\n\u001b[1;32m    951\u001b[0m \u001b[38;5;124;03mThe nonzero coordinates of a flattened version of this array. Note that\u001b[39;00m\n\u001b[1;32m    952\u001b[0m \u001b[38;5;124;03mthe coordinates may be out of order.\u001b[39;00m\n\u001b[0;32m   (...)\u001b[0m\n\u001b[1;32m    970\u001b[0m \u001b[38;5;124;03mTrue\u001b[39;00m\n\u001b[1;32m    971\u001b[0m \u001b[38;5;124;03m\"\"\"\u001b[39;00m\n\u001b[1;32m    972\u001b[0m \u001b[38;5;28;01mfrom\u001b[39;00m \u001b[38;5;21;01m.\u001b[39;00m\u001b[38;5;21;01mcommon\u001b[39;00m \u001b[38;5;28;01mimport\u001b[39;00m linear_loc\n\u001b[0;32m--> 974\u001b[0m \u001b[38;5;28;01mreturn\u001b[39;00m \u001b[43mlinear_loc\u001b[49m\u001b[43m(\u001b[49m\u001b[38;5;28;43mself\u001b[39;49m\u001b[38;5;241;43m.\u001b[39;49m\u001b[43mcoords\u001b[49m\u001b[43m,\u001b[49m\u001b[43m \u001b[49m\u001b[38;5;28;43mself\u001b[39;49m\u001b[38;5;241;43m.\u001b[39;49m\u001b[43mshape\u001b[49m\u001b[43m)\u001b[49m\n",
      "File \u001b[0;32m/nbhome/Katherine.Turner/miniconda3/envs/py310/lib/python3.10/site-packages/sparse/_coo/common.py:65\u001b[0m, in \u001b[0;36mlinear_loc\u001b[0;34m(coords, shape)\u001b[0m\n\u001b[1;32m     63\u001b[0m     \u001b[38;5;28;01mreturn\u001b[39;00m np\u001b[38;5;241m.\u001b[39mzeros(coords\u001b[38;5;241m.\u001b[39mshape[\u001b[38;5;241m1\u001b[39m:], dtype\u001b[38;5;241m=\u001b[39mnp\u001b[38;5;241m.\u001b[39mintp)\n\u001b[1;32m     64\u001b[0m \u001b[38;5;28;01melse\u001b[39;00m:\n\u001b[0;32m---> 65\u001b[0m     \u001b[38;5;28;01mreturn\u001b[39;00m \u001b[43mnp\u001b[49m\u001b[38;5;241;43m.\u001b[39;49m\u001b[43mravel_multi_index\u001b[49m\u001b[43m(\u001b[49m\u001b[43mcoords\u001b[49m\u001b[43m,\u001b[49m\u001b[43m \u001b[49m\u001b[43mshape\u001b[49m\u001b[43m)\u001b[49m\n",
      "File \u001b[0;32m<__array_function__ internals>:180\u001b[0m, in \u001b[0;36mravel_multi_index\u001b[0;34m(*args, **kwargs)\u001b[0m\n",
      "\u001b[0;31mValueError\u001b[0m: invalid entry in coordinates array"
     ]
    }
   ],
   "source": [
    "   \n",
    "ds_out = xr.Dataset({varname:dr_out})\n",
    "ds_out.to_netcdf(fileout)    "
   ]
  },
  {
   "cell_type": "code",
   "execution_count": 32,
   "id": "a1f8d230-1be9-41bb-93e9-0911bf771b3d",
   "metadata": {
    "collapsed": true,
    "jupyter": {
     "outputs_hidden": true
    },
    "tags": []
   },
   "outputs": [
    {
     "data": {
      "text/html": [
       "<div><svg style=\"position: absolute; width: 0; height: 0; overflow: hidden\">\n",
       "<defs>\n",
       "<symbol id=\"icon-database\" viewBox=\"0 0 32 32\">\n",
       "<path d=\"M16 0c-8.837 0-16 2.239-16 5v4c0 2.761 7.163 5 16 5s16-2.239 16-5v-4c0-2.761-7.163-5-16-5z\"></path>\n",
       "<path d=\"M16 17c-8.837 0-16-2.239-16-5v6c0 2.761 7.163 5 16 5s16-2.239 16-5v-6c0 2.761-7.163 5-16 5z\"></path>\n",
       "<path d=\"M16 26c-8.837 0-16-2.239-16-5v6c0 2.761 7.163 5 16 5s16-2.239 16-5v-6c0 2.761-7.163 5-16 5z\"></path>\n",
       "</symbol>\n",
       "<symbol id=\"icon-file-text2\" viewBox=\"0 0 32 32\">\n",
       "<path d=\"M28.681 7.159c-0.694-0.947-1.662-2.053-2.724-3.116s-2.169-2.030-3.116-2.724c-1.612-1.182-2.393-1.319-2.841-1.319h-15.5c-1.378 0-2.5 1.121-2.5 2.5v27c0 1.378 1.122 2.5 2.5 2.5h23c1.378 0 2.5-1.122 2.5-2.5v-19.5c0-0.448-0.137-1.23-1.319-2.841zM24.543 5.457c0.959 0.959 1.712 1.825 2.268 2.543h-4.811v-4.811c0.718 0.556 1.584 1.309 2.543 2.268zM28 29.5c0 0.271-0.229 0.5-0.5 0.5h-23c-0.271 0-0.5-0.229-0.5-0.5v-27c0-0.271 0.229-0.5 0.5-0.5 0 0 15.499-0 15.5 0v7c0 0.552 0.448 1 1 1h7v19.5z\"></path>\n",
       "<path d=\"M23 26h-14c-0.552 0-1-0.448-1-1s0.448-1 1-1h14c0.552 0 1 0.448 1 1s-0.448 1-1 1z\"></path>\n",
       "<path d=\"M23 22h-14c-0.552 0-1-0.448-1-1s0.448-1 1-1h14c0.552 0 1 0.448 1 1s-0.448 1-1 1z\"></path>\n",
       "<path d=\"M23 18h-14c-0.552 0-1-0.448-1-1s0.448-1 1-1h14c0.552 0 1 0.448 1 1s-0.448 1-1 1z\"></path>\n",
       "</symbol>\n",
       "</defs>\n",
       "</svg>\n",
       "<style>/* CSS stylesheet for displaying xarray objects in jupyterlab.\n",
       " *\n",
       " */\n",
       "\n",
       ":root {\n",
       "  --xr-font-color0: var(--jp-content-font-color0, rgba(0, 0, 0, 1));\n",
       "  --xr-font-color2: var(--jp-content-font-color2, rgba(0, 0, 0, 0.54));\n",
       "  --xr-font-color3: var(--jp-content-font-color3, rgba(0, 0, 0, 0.38));\n",
       "  --xr-border-color: var(--jp-border-color2, #e0e0e0);\n",
       "  --xr-disabled-color: var(--jp-layout-color3, #bdbdbd);\n",
       "  --xr-background-color: var(--jp-layout-color0, white);\n",
       "  --xr-background-color-row-even: var(--jp-layout-color1, white);\n",
       "  --xr-background-color-row-odd: var(--jp-layout-color2, #eeeeee);\n",
       "}\n",
       "\n",
       "html[theme=dark],\n",
       "body[data-theme=dark],\n",
       "body.vscode-dark {\n",
       "  --xr-font-color0: rgba(255, 255, 255, 1);\n",
       "  --xr-font-color2: rgba(255, 255, 255, 0.54);\n",
       "  --xr-font-color3: rgba(255, 255, 255, 0.38);\n",
       "  --xr-border-color: #1F1F1F;\n",
       "  --xr-disabled-color: #515151;\n",
       "  --xr-background-color: #111111;\n",
       "  --xr-background-color-row-even: #111111;\n",
       "  --xr-background-color-row-odd: #313131;\n",
       "}\n",
       "\n",
       ".xr-wrap {\n",
       "  display: block !important;\n",
       "  min-width: 300px;\n",
       "  max-width: 700px;\n",
       "}\n",
       "\n",
       ".xr-text-repr-fallback {\n",
       "  /* fallback to plain text repr when CSS is not injected (untrusted notebook) */\n",
       "  display: none;\n",
       "}\n",
       "\n",
       ".xr-header {\n",
       "  padding-top: 6px;\n",
       "  padding-bottom: 6px;\n",
       "  margin-bottom: 4px;\n",
       "  border-bottom: solid 1px var(--xr-border-color);\n",
       "}\n",
       "\n",
       ".xr-header > div,\n",
       ".xr-header > ul {\n",
       "  display: inline;\n",
       "  margin-top: 0;\n",
       "  margin-bottom: 0;\n",
       "}\n",
       "\n",
       ".xr-obj-type,\n",
       ".xr-array-name {\n",
       "  margin-left: 2px;\n",
       "  margin-right: 10px;\n",
       "}\n",
       "\n",
       ".xr-obj-type {\n",
       "  color: var(--xr-font-color2);\n",
       "}\n",
       "\n",
       ".xr-sections {\n",
       "  padding-left: 0 !important;\n",
       "  display: grid;\n",
       "  grid-template-columns: 150px auto auto 1fr 20px 20px;\n",
       "}\n",
       "\n",
       ".xr-section-item {\n",
       "  display: contents;\n",
       "}\n",
       "\n",
       ".xr-section-item input {\n",
       "  display: none;\n",
       "}\n",
       "\n",
       ".xr-section-item input + label {\n",
       "  color: var(--xr-disabled-color);\n",
       "}\n",
       "\n",
       ".xr-section-item input:enabled + label {\n",
       "  cursor: pointer;\n",
       "  color: var(--xr-font-color2);\n",
       "}\n",
       "\n",
       ".xr-section-item input:enabled + label:hover {\n",
       "  color: var(--xr-font-color0);\n",
       "}\n",
       "\n",
       ".xr-section-summary {\n",
       "  grid-column: 1;\n",
       "  color: var(--xr-font-color2);\n",
       "  font-weight: 500;\n",
       "}\n",
       "\n",
       ".xr-section-summary > span {\n",
       "  display: inline-block;\n",
       "  padding-left: 0.5em;\n",
       "}\n",
       "\n",
       ".xr-section-summary-in:disabled + label {\n",
       "  color: var(--xr-font-color2);\n",
       "}\n",
       "\n",
       ".xr-section-summary-in + label:before {\n",
       "  display: inline-block;\n",
       "  content: '►';\n",
       "  font-size: 11px;\n",
       "  width: 15px;\n",
       "  text-align: center;\n",
       "}\n",
       "\n",
       ".xr-section-summary-in:disabled + label:before {\n",
       "  color: var(--xr-disabled-color);\n",
       "}\n",
       "\n",
       ".xr-section-summary-in:checked + label:before {\n",
       "  content: '▼';\n",
       "}\n",
       "\n",
       ".xr-section-summary-in:checked + label > span {\n",
       "  display: none;\n",
       "}\n",
       "\n",
       ".xr-section-summary,\n",
       ".xr-section-inline-details {\n",
       "  padding-top: 4px;\n",
       "  padding-bottom: 4px;\n",
       "}\n",
       "\n",
       ".xr-section-inline-details {\n",
       "  grid-column: 2 / -1;\n",
       "}\n",
       "\n",
       ".xr-section-details {\n",
       "  display: none;\n",
       "  grid-column: 1 / -1;\n",
       "  margin-bottom: 5px;\n",
       "}\n",
       "\n",
       ".xr-section-summary-in:checked ~ .xr-section-details {\n",
       "  display: contents;\n",
       "}\n",
       "\n",
       ".xr-array-wrap {\n",
       "  grid-column: 1 / -1;\n",
       "  display: grid;\n",
       "  grid-template-columns: 20px auto;\n",
       "}\n",
       "\n",
       ".xr-array-wrap > label {\n",
       "  grid-column: 1;\n",
       "  vertical-align: top;\n",
       "}\n",
       "\n",
       ".xr-preview {\n",
       "  color: var(--xr-font-color3);\n",
       "}\n",
       "\n",
       ".xr-array-preview,\n",
       ".xr-array-data {\n",
       "  padding: 0 5px !important;\n",
       "  grid-column: 2;\n",
       "}\n",
       "\n",
       ".xr-array-data,\n",
       ".xr-array-in:checked ~ .xr-array-preview {\n",
       "  display: none;\n",
       "}\n",
       "\n",
       ".xr-array-in:checked ~ .xr-array-data,\n",
       ".xr-array-preview {\n",
       "  display: inline-block;\n",
       "}\n",
       "\n",
       ".xr-dim-list {\n",
       "  display: inline-block !important;\n",
       "  list-style: none;\n",
       "  padding: 0 !important;\n",
       "  margin: 0;\n",
       "}\n",
       "\n",
       ".xr-dim-list li {\n",
       "  display: inline-block;\n",
       "  padding: 0;\n",
       "  margin: 0;\n",
       "}\n",
       "\n",
       ".xr-dim-list:before {\n",
       "  content: '(';\n",
       "}\n",
       "\n",
       ".xr-dim-list:after {\n",
       "  content: ')';\n",
       "}\n",
       "\n",
       ".xr-dim-list li:not(:last-child):after {\n",
       "  content: ',';\n",
       "  padding-right: 5px;\n",
       "}\n",
       "\n",
       ".xr-has-index {\n",
       "  font-weight: bold;\n",
       "}\n",
       "\n",
       ".xr-var-list,\n",
       ".xr-var-item {\n",
       "  display: contents;\n",
       "}\n",
       "\n",
       ".xr-var-item > div,\n",
       ".xr-var-item label,\n",
       ".xr-var-item > .xr-var-name span {\n",
       "  background-color: var(--xr-background-color-row-even);\n",
       "  margin-bottom: 0;\n",
       "}\n",
       "\n",
       ".xr-var-item > .xr-var-name:hover span {\n",
       "  padding-right: 5px;\n",
       "}\n",
       "\n",
       ".xr-var-list > li:nth-child(odd) > div,\n",
       ".xr-var-list > li:nth-child(odd) > label,\n",
       ".xr-var-list > li:nth-child(odd) > .xr-var-name span {\n",
       "  background-color: var(--xr-background-color-row-odd);\n",
       "}\n",
       "\n",
       ".xr-var-name {\n",
       "  grid-column: 1;\n",
       "}\n",
       "\n",
       ".xr-var-dims {\n",
       "  grid-column: 2;\n",
       "}\n",
       "\n",
       ".xr-var-dtype {\n",
       "  grid-column: 3;\n",
       "  text-align: right;\n",
       "  color: var(--xr-font-color2);\n",
       "}\n",
       "\n",
       ".xr-var-preview {\n",
       "  grid-column: 4;\n",
       "}\n",
       "\n",
       ".xr-index-preview {\n",
       "  grid-column: 2 / 5;\n",
       "  color: var(--xr-font-color2);\n",
       "}\n",
       "\n",
       ".xr-var-name,\n",
       ".xr-var-dims,\n",
       ".xr-var-dtype,\n",
       ".xr-preview,\n",
       ".xr-attrs dt {\n",
       "  white-space: nowrap;\n",
       "  overflow: hidden;\n",
       "  text-overflow: ellipsis;\n",
       "  padding-right: 10px;\n",
       "}\n",
       "\n",
       ".xr-var-name:hover,\n",
       ".xr-var-dims:hover,\n",
       ".xr-var-dtype:hover,\n",
       ".xr-attrs dt:hover {\n",
       "  overflow: visible;\n",
       "  width: auto;\n",
       "  z-index: 1;\n",
       "}\n",
       "\n",
       ".xr-var-attrs,\n",
       ".xr-var-data,\n",
       ".xr-index-data {\n",
       "  display: none;\n",
       "  background-color: var(--xr-background-color) !important;\n",
       "  padding-bottom: 5px !important;\n",
       "}\n",
       "\n",
       ".xr-var-attrs-in:checked ~ .xr-var-attrs,\n",
       ".xr-var-data-in:checked ~ .xr-var-data,\n",
       ".xr-index-data-in:checked ~ .xr-index-data {\n",
       "  display: block;\n",
       "}\n",
       "\n",
       ".xr-var-data > table {\n",
       "  float: right;\n",
       "}\n",
       "\n",
       ".xr-var-name span,\n",
       ".xr-var-data,\n",
       ".xr-index-name div,\n",
       ".xr-index-data,\n",
       ".xr-attrs {\n",
       "  padding-left: 25px !important;\n",
       "}\n",
       "\n",
       ".xr-attrs,\n",
       ".xr-var-attrs,\n",
       ".xr-var-data,\n",
       ".xr-index-data {\n",
       "  grid-column: 1 / -1;\n",
       "}\n",
       "\n",
       "dl.xr-attrs {\n",
       "  padding: 0;\n",
       "  margin: 0;\n",
       "  display: grid;\n",
       "  grid-template-columns: 125px auto;\n",
       "}\n",
       "\n",
       ".xr-attrs dt,\n",
       ".xr-attrs dd {\n",
       "  padding: 0;\n",
       "  margin: 0;\n",
       "  float: left;\n",
       "  padding-right: 10px;\n",
       "  width: auto;\n",
       "}\n",
       "\n",
       ".xr-attrs dt {\n",
       "  font-weight: normal;\n",
       "  grid-column: 1;\n",
       "}\n",
       "\n",
       ".xr-attrs dt:hover span {\n",
       "  display: inline-block;\n",
       "  background: var(--xr-background-color);\n",
       "  padding-right: 10px;\n",
       "}\n",
       "\n",
       ".xr-attrs dd {\n",
       "  grid-column: 2;\n",
       "  white-space: pre-wrap;\n",
       "  word-break: break-all;\n",
       "}\n",
       "\n",
       ".xr-icon-database,\n",
       ".xr-icon-file-text2,\n",
       ".xr-no-icon {\n",
       "  display: inline-block;\n",
       "  vertical-align: middle;\n",
       "  width: 1em;\n",
       "  height: 1.5em !important;\n",
       "  stroke-width: 0;\n",
       "  stroke: currentColor;\n",
       "  fill: currentColor;\n",
       "}\n",
       "</style><pre class='xr-text-repr-fallback'>&lt;xarray.Dataset&gt;\n",
       "Dimensions:       (xh: 1440, yh: 1080, time: 1, xq: 1440, yq: 1080)\n",
       "Coordinates:\n",
       "  * xh            (xh) float64 -299.7 -299.5 -299.2 -299.0 ... 59.53 59.78 60.03\n",
       "  * yh            (yh) float64 -80.39 -80.31 -80.23 -80.15 ... 89.73 89.84 89.95\n",
       "  * time          (time) float64 0.0\n",
       "  * xq            (xq) float64 -299.6 -299.3 -299.1 -298.9 ... 59.66 59.91 60.16\n",
       "  * yq            (yq) float64 -80.35 -80.27 -80.19 -80.11 ... 89.78 89.89 90.0\n",
       "Data variables: (12/27)\n",
       "    areacello     (yh, xh) float32 ...\n",
       "    deptho        (yh, xh) float32 ...\n",
       "    hfgeou        (yh, xh) float32 ...\n",
       "    sftof         (yh, xh) float32 ...\n",
       "    Coriolis      (yq, xq) float32 ...\n",
       "    geolon        (yh, xh) float32 ...\n",
       "    ...            ...\n",
       "    dxCv          (yq, xh) float32 ...\n",
       "    dyCv          (yq, xh) float32 ...\n",
       "    areacello_cu  (yh, xq) float32 ...\n",
       "    areacello_cv  (yq, xh) float32 ...\n",
       "    areacello_bu  (yq, xq) float32 ...\n",
       "    basin         (yh, xh) int32 ...\n",
       "Attributes:\n",
       "    filename:   19000101.ocean_static.nc\n",
       "    title:      OM4_SIS2_cgrid_025\n",
       "    grid_type:  regular\n",
       "    grid_tile:  N/A</pre><div class='xr-wrap' style='display:none'><div class='xr-header'><div class='xr-obj-type'>xarray.Dataset</div></div><ul class='xr-sections'><li class='xr-section-item'><input id='section-0d1d94c7-9a7b-4e59-afe6-f1818e395009' class='xr-section-summary-in' type='checkbox' disabled ><label for='section-0d1d94c7-9a7b-4e59-afe6-f1818e395009' class='xr-section-summary'  title='Expand/collapse section'>Dimensions:</label><div class='xr-section-inline-details'><ul class='xr-dim-list'><li><span class='xr-has-index'>xh</span>: 1440</li><li><span class='xr-has-index'>yh</span>: 1080</li><li><span class='xr-has-index'>time</span>: 1</li><li><span class='xr-has-index'>xq</span>: 1440</li><li><span class='xr-has-index'>yq</span>: 1080</li></ul></div><div class='xr-section-details'></div></li><li class='xr-section-item'><input id='section-4ed65e31-eb8c-427f-b124-60fe9d590fe4' class='xr-section-summary-in' type='checkbox'  checked><label for='section-4ed65e31-eb8c-427f-b124-60fe9d590fe4' class='xr-section-summary' >Coordinates: <span>(5)</span></label><div class='xr-section-inline-details'></div><div class='xr-section-details'><ul class='xr-var-list'><li class='xr-var-item'><div class='xr-var-name'><span class='xr-has-index'>xh</span></div><div class='xr-var-dims'>(xh)</div><div class='xr-var-dtype'>float64</div><div class='xr-var-preview xr-preview'>-299.7 -299.5 ... 59.78 60.03</div><input id='attrs-a4ddddaf-d9fc-4dc3-9336-a05fe3b06019' class='xr-var-attrs-in' type='checkbox' ><label for='attrs-a4ddddaf-d9fc-4dc3-9336-a05fe3b06019' title='Show/Hide attributes'><svg class='icon xr-icon-file-text2'><use xlink:href='#icon-file-text2'></use></svg></label><input id='data-9cbe2a4e-bfc2-4fa1-b9ec-a4b66836f54b' class='xr-var-data-in' type='checkbox'><label for='data-9cbe2a4e-bfc2-4fa1-b9ec-a4b66836f54b' title='Show/Hide data repr'><svg class='icon xr-icon-database'><use xlink:href='#icon-database'></use></svg></label><div class='xr-var-attrs'><dl class='xr-attrs'><dt><span>long_name :</span></dt><dd>h point nominal longitude</dd><dt><span>units :</span></dt><dd>degrees_east</dd><dt><span>cartesian_axis :</span></dt><dd>X</dd></dl></div><div class='xr-var-data'><pre>array([-299.724244, -299.476198, -299.22815 , ...,   59.531631,   59.77967 ,\n",
       "         60.027712])</pre></div></li><li class='xr-var-item'><div class='xr-var-name'><span class='xr-has-index'>yh</span></div><div class='xr-var-dims'>(yh)</div><div class='xr-var-dtype'>float64</div><div class='xr-var-preview xr-preview'>-80.39 -80.31 ... 89.84 89.95</div><input id='attrs-5b07145b-45bf-4b4f-a14e-53f534186bee' class='xr-var-attrs-in' type='checkbox' ><label for='attrs-5b07145b-45bf-4b4f-a14e-53f534186bee' title='Show/Hide attributes'><svg class='icon xr-icon-file-text2'><use xlink:href='#icon-file-text2'></use></svg></label><input id='data-5ef3e8fb-a74b-4a35-aa40-37eacff38093' class='xr-var-data-in' type='checkbox'><label for='data-5ef3e8fb-a74b-4a35-aa40-37eacff38093' title='Show/Hide data repr'><svg class='icon xr-icon-database'><use xlink:href='#icon-database'></use></svg></label><div class='xr-var-attrs'><dl class='xr-attrs'><dt><span>long_name :</span></dt><dd>h point nominal latitude</dd><dt><span>units :</span></dt><dd>degrees_north</dd><dt><span>cartesian_axis :</span></dt><dd>Y</dd></dl></div><div class='xr-var-data'><pre>array([-80.389238, -80.308075, -80.226911, ...,  89.729781,  89.837868,\n",
       "        89.945956])</pre></div></li><li class='xr-var-item'><div class='xr-var-name'><span class='xr-has-index'>time</span></div><div class='xr-var-dims'>(time)</div><div class='xr-var-dtype'>float64</div><div class='xr-var-preview xr-preview'>0.0</div><input id='attrs-8bfd433d-ee7c-482c-8a2e-e2b42c5e91d9' class='xr-var-attrs-in' type='checkbox' ><label for='attrs-8bfd433d-ee7c-482c-8a2e-e2b42c5e91d9' title='Show/Hide attributes'><svg class='icon xr-icon-file-text2'><use xlink:href='#icon-file-text2'></use></svg></label><input id='data-8524be34-93f9-4f49-9724-25db17e7c425' class='xr-var-data-in' type='checkbox'><label for='data-8524be34-93f9-4f49-9724-25db17e7c425' title='Show/Hide data repr'><svg class='icon xr-icon-database'><use xlink:href='#icon-database'></use></svg></label><div class='xr-var-attrs'><dl class='xr-attrs'><dt><span>long_name :</span></dt><dd>time</dd><dt><span>units :</span></dt><dd>days since 1900-01-01 00:00:00</dd><dt><span>cartesian_axis :</span></dt><dd>T</dd><dt><span>calendar_type :</span></dt><dd>NOLEAP</dd><dt><span>calendar :</span></dt><dd>NOLEAP</dd></dl></div><div class='xr-var-data'><pre>array([0.])</pre></div></li><li class='xr-var-item'><div class='xr-var-name'><span class='xr-has-index'>xq</span></div><div class='xr-var-dims'>(xq)</div><div class='xr-var-dtype'>float64</div><div class='xr-var-preview xr-preview'>-299.6 -299.3 ... 59.91 60.16</div><input id='attrs-ba94f4cc-f49e-4c18-a5b9-78b0c9c770a7' class='xr-var-attrs-in' type='checkbox' ><label for='attrs-ba94f4cc-f49e-4c18-a5b9-78b0c9c770a7' title='Show/Hide attributes'><svg class='icon xr-icon-file-text2'><use xlink:href='#icon-file-text2'></use></svg></label><input id='data-b14dfcce-9f38-42a9-9762-3517e04ddf38' class='xr-var-data-in' type='checkbox'><label for='data-b14dfcce-9f38-42a9-9762-3517e04ddf38' title='Show/Hide data repr'><svg class='icon xr-icon-database'><use xlink:href='#icon-database'></use></svg></label><div class='xr-var-attrs'><dl class='xr-attrs'><dt><span>long_name :</span></dt><dd>q point nominal longitude</dd><dt><span>units :</span></dt><dd>degrees_east</dd><dt><span>cartesian_axis :</span></dt><dd>X</dd></dl></div><div class='xr-var-data'><pre>array([-299.594355, -299.346385, -299.098412, ...,   59.661746,   59.90971 ,\n",
       "         60.157676])</pre></div></li><li class='xr-var-item'><div class='xr-var-name'><span class='xr-has-index'>yq</span></div><div class='xr-var-dims'>(yq)</div><div class='xr-var-dtype'>float64</div><div class='xr-var-preview xr-preview'>-80.35 -80.27 -80.19 ... 89.89 90.0</div><input id='attrs-c19b227a-f787-4204-b194-2266551c9be9' class='xr-var-attrs-in' type='checkbox' ><label for='attrs-c19b227a-f787-4204-b194-2266551c9be9' title='Show/Hide attributes'><svg class='icon xr-icon-file-text2'><use xlink:href='#icon-file-text2'></use></svg></label><input id='data-66bc5294-a467-4030-add8-1d4e99746c76' class='xr-var-data-in' type='checkbox'><label for='data-66bc5294-a467-4030-add8-1d4e99746c76' title='Show/Hide data repr'><svg class='icon xr-icon-database'><use xlink:href='#icon-database'></use></svg></label><div class='xr-var-attrs'><dl class='xr-attrs'><dt><span>long_name :</span></dt><dd>q point nominal latitude</dd><dt><span>units :</span></dt><dd>degrees_north</dd><dt><span>cartesian_axis :</span></dt><dd>Y</dd></dl></div><div class='xr-var-data'><pre>array([-80.348657, -80.267493, -80.186329, ...,  89.783825,  89.891912,\n",
       "        90.      ])</pre></div></li></ul></div></li><li class='xr-section-item'><input id='section-3740550b-9a5a-4506-bce3-dc8dd0c9ba29' class='xr-section-summary-in' type='checkbox'  ><label for='section-3740550b-9a5a-4506-bce3-dc8dd0c9ba29' class='xr-section-summary' >Data variables: <span>(27)</span></label><div class='xr-section-inline-details'></div><div class='xr-section-details'><ul class='xr-var-list'><li class='xr-var-item'><div class='xr-var-name'><span>areacello</span></div><div class='xr-var-dims'>(yh, xh)</div><div class='xr-var-dtype'>float32</div><div class='xr-var-preview xr-preview'>...</div><input id='attrs-76974d7e-7990-4fda-9775-f8a2602616de' class='xr-var-attrs-in' type='checkbox' ><label for='attrs-76974d7e-7990-4fda-9775-f8a2602616de' title='Show/Hide attributes'><svg class='icon xr-icon-file-text2'><use xlink:href='#icon-file-text2'></use></svg></label><input id='data-e292df6d-3042-4d0d-a964-9cc5682e0239' class='xr-var-data-in' type='checkbox'><label for='data-e292df6d-3042-4d0d-a964-9cc5682e0239' title='Show/Hide data repr'><svg class='icon xr-icon-database'><use xlink:href='#icon-database'></use></svg></label><div class='xr-var-attrs'><dl class='xr-attrs'><dt><span>long_name :</span></dt><dd>Ocean Grid-Cell Area</dd><dt><span>units :</span></dt><dd>m2</dd><dt><span>cell_methods :</span></dt><dd>area:sum yh:sum xh:sum time: point</dd><dt><span>standard_name :</span></dt><dd>cell_area</dd></dl></div><div class='xr-var-data'><pre>[1555200 values with dtype=float32]</pre></div></li><li class='xr-var-item'><div class='xr-var-name'><span>deptho</span></div><div class='xr-var-dims'>(yh, xh)</div><div class='xr-var-dtype'>float32</div><div class='xr-var-preview xr-preview'>...</div><input id='attrs-ed2e6ab0-a11f-4662-b3e1-c8b8684411d2' class='xr-var-attrs-in' type='checkbox' ><label for='attrs-ed2e6ab0-a11f-4662-b3e1-c8b8684411d2' title='Show/Hide attributes'><svg class='icon xr-icon-file-text2'><use xlink:href='#icon-file-text2'></use></svg></label><input id='data-538e2a7c-df9d-4ab9-b872-b16ca9c7715a' class='xr-var-data-in' type='checkbox'><label for='data-538e2a7c-df9d-4ab9-b872-b16ca9c7715a' title='Show/Hide data repr'><svg class='icon xr-icon-database'><use xlink:href='#icon-database'></use></svg></label><div class='xr-var-attrs'><dl class='xr-attrs'><dt><span>long_name :</span></dt><dd>Sea Floor Depth</dd><dt><span>units :</span></dt><dd>m</dd><dt><span>cell_methods :</span></dt><dd>area:mean yh:mean xh:mean time: point</dd><dt><span>cell_measures :</span></dt><dd>area: areacello</dd><dt><span>standard_name :</span></dt><dd>sea_floor_depth_below_geoid</dd></dl></div><div class='xr-var-data'><pre>[1555200 values with dtype=float32]</pre></div></li><li class='xr-var-item'><div class='xr-var-name'><span>hfgeou</span></div><div class='xr-var-dims'>(yh, xh)</div><div class='xr-var-dtype'>float32</div><div class='xr-var-preview xr-preview'>...</div><input id='attrs-6bfde78a-9f90-4bc8-9d78-0b2655354316' class='xr-var-attrs-in' type='checkbox' ><label for='attrs-6bfde78a-9f90-4bc8-9d78-0b2655354316' title='Show/Hide attributes'><svg class='icon xr-icon-file-text2'><use xlink:href='#icon-file-text2'></use></svg></label><input id='data-9c5ee8bf-6ac9-417a-aed0-1f7d7d5ca963' class='xr-var-data-in' type='checkbox'><label for='data-9c5ee8bf-6ac9-417a-aed0-1f7d7d5ca963' title='Show/Hide data repr'><svg class='icon xr-icon-database'><use xlink:href='#icon-database'></use></svg></label><div class='xr-var-attrs'><dl class='xr-attrs'><dt><span>long_name :</span></dt><dd>Upward geothermal heat flux at sea floor</dd><dt><span>units :</span></dt><dd>W m-2</dd><dt><span>cell_methods :</span></dt><dd>area:mean yh:mean xh:mean time: point</dd><dt><span>standard_name :</span></dt><dd>upward_geothermal_heat_flux_at_sea_floor</dd></dl></div><div class='xr-var-data'><pre>[1555200 values with dtype=float32]</pre></div></li><li class='xr-var-item'><div class='xr-var-name'><span>sftof</span></div><div class='xr-var-dims'>(yh, xh)</div><div class='xr-var-dtype'>float32</div><div class='xr-var-preview xr-preview'>...</div><input id='attrs-da063b21-9d71-4a21-88b6-c411db6af1b2' class='xr-var-attrs-in' type='checkbox' ><label for='attrs-da063b21-9d71-4a21-88b6-c411db6af1b2' title='Show/Hide attributes'><svg class='icon xr-icon-file-text2'><use xlink:href='#icon-file-text2'></use></svg></label><input id='data-42defed9-bfed-4be0-bf0c-0d62b637084d' class='xr-var-data-in' type='checkbox'><label for='data-42defed9-bfed-4be0-bf0c-0d62b637084d' title='Show/Hide data repr'><svg class='icon xr-icon-database'><use xlink:href='#icon-database'></use></svg></label><div class='xr-var-attrs'><dl class='xr-attrs'><dt><span>long_name :</span></dt><dd>Sea Area Fraction</dd><dt><span>units :</span></dt><dd>%</dd><dt><span>cell_methods :</span></dt><dd>area:mean yh:mean xh:mean time: point</dd><dt><span>standard_name :</span></dt><dd>SeaAreaFraction</dd></dl></div><div class='xr-var-data'><pre>[1555200 values with dtype=float32]</pre></div></li><li class='xr-var-item'><div class='xr-var-name'><span>Coriolis</span></div><div class='xr-var-dims'>(yq, xq)</div><div class='xr-var-dtype'>float32</div><div class='xr-var-preview xr-preview'>...</div><input id='attrs-0687be0a-9756-4931-b182-b9892c6d6cdc' class='xr-var-attrs-in' type='checkbox' ><label for='attrs-0687be0a-9756-4931-b182-b9892c6d6cdc' title='Show/Hide attributes'><svg class='icon xr-icon-file-text2'><use xlink:href='#icon-file-text2'></use></svg></label><input id='data-423533e9-75bd-41ec-a67d-69bc4d582c13' class='xr-var-data-in' type='checkbox'><label for='data-423533e9-75bd-41ec-a67d-69bc4d582c13' title='Show/Hide data repr'><svg class='icon xr-icon-database'><use xlink:href='#icon-database'></use></svg></label><div class='xr-var-attrs'><dl class='xr-attrs'><dt><span>long_name :</span></dt><dd>Coriolis parameter at corner (Bu) points</dd><dt><span>units :</span></dt><dd>s-1</dd><dt><span>cell_methods :</span></dt><dd>time: point</dd><dt><span>interp_method :</span></dt><dd>none</dd></dl></div><div class='xr-var-data'><pre>[1555200 values with dtype=float32]</pre></div></li><li class='xr-var-item'><div class='xr-var-name'><span>geolon</span></div><div class='xr-var-dims'>(yh, xh)</div><div class='xr-var-dtype'>float32</div><div class='xr-var-preview xr-preview'>...</div><input id='attrs-2d520e06-094b-4f11-86a5-d10a7c987325' class='xr-var-attrs-in' type='checkbox' ><label for='attrs-2d520e06-094b-4f11-86a5-d10a7c987325' title='Show/Hide attributes'><svg class='icon xr-icon-file-text2'><use xlink:href='#icon-file-text2'></use></svg></label><input id='data-ea3ade8d-88e9-401f-9988-e35538cf377c' class='xr-var-data-in' type='checkbox'><label for='data-ea3ade8d-88e9-401f-9988-e35538cf377c' title='Show/Hide data repr'><svg class='icon xr-icon-database'><use xlink:href='#icon-database'></use></svg></label><div class='xr-var-attrs'><dl class='xr-attrs'><dt><span>long_name :</span></dt><dd>Longitude of tracer (T) points</dd><dt><span>units :</span></dt><dd>degrees_east</dd><dt><span>cell_methods :</span></dt><dd>time: point</dd></dl></div><div class='xr-var-data'><pre>[1555200 values with dtype=float32]</pre></div></li><li class='xr-var-item'><div class='xr-var-name'><span>geolat</span></div><div class='xr-var-dims'>(yh, xh)</div><div class='xr-var-dtype'>float32</div><div class='xr-var-preview xr-preview'>...</div><input id='attrs-b82829ef-a799-42b4-a373-f1208abf80a7' class='xr-var-attrs-in' type='checkbox' ><label for='attrs-b82829ef-a799-42b4-a373-f1208abf80a7' title='Show/Hide attributes'><svg class='icon xr-icon-file-text2'><use xlink:href='#icon-file-text2'></use></svg></label><input id='data-ad66414c-625b-4328-a147-f08837aedfe6' class='xr-var-data-in' type='checkbox'><label for='data-ad66414c-625b-4328-a147-f08837aedfe6' title='Show/Hide data repr'><svg class='icon xr-icon-database'><use xlink:href='#icon-database'></use></svg></label><div class='xr-var-attrs'><dl class='xr-attrs'><dt><span>long_name :</span></dt><dd>Latitude of tracer (T) points</dd><dt><span>units :</span></dt><dd>degrees_north</dd><dt><span>cell_methods :</span></dt><dd>time: point</dd></dl></div><div class='xr-var-data'><pre>[1555200 values with dtype=float32]</pre></div></li><li class='xr-var-item'><div class='xr-var-name'><span>geolon_c</span></div><div class='xr-var-dims'>(yq, xq)</div><div class='xr-var-dtype'>float32</div><div class='xr-var-preview xr-preview'>...</div><input id='attrs-c5dce23f-c59f-494b-8c72-c464492c9834' class='xr-var-attrs-in' type='checkbox' ><label for='attrs-c5dce23f-c59f-494b-8c72-c464492c9834' title='Show/Hide attributes'><svg class='icon xr-icon-file-text2'><use xlink:href='#icon-file-text2'></use></svg></label><input id='data-ce7f24a9-c86b-4d9c-9306-fa93aecb643b' class='xr-var-data-in' type='checkbox'><label for='data-ce7f24a9-c86b-4d9c-9306-fa93aecb643b' title='Show/Hide data repr'><svg class='icon xr-icon-database'><use xlink:href='#icon-database'></use></svg></label><div class='xr-var-attrs'><dl class='xr-attrs'><dt><span>long_name :</span></dt><dd>Longitude of corner (Bu) points</dd><dt><span>units :</span></dt><dd>degrees_east</dd><dt><span>cell_methods :</span></dt><dd>time: point</dd><dt><span>interp_method :</span></dt><dd>none</dd></dl></div><div class='xr-var-data'><pre>[1555200 values with dtype=float32]</pre></div></li><li class='xr-var-item'><div class='xr-var-name'><span>geolat_c</span></div><div class='xr-var-dims'>(yq, xq)</div><div class='xr-var-dtype'>float32</div><div class='xr-var-preview xr-preview'>...</div><input id='attrs-2a2c9101-74f5-4c30-a9b5-7fd2d7af5771' class='xr-var-attrs-in' type='checkbox' ><label for='attrs-2a2c9101-74f5-4c30-a9b5-7fd2d7af5771' title='Show/Hide attributes'><svg class='icon xr-icon-file-text2'><use xlink:href='#icon-file-text2'></use></svg></label><input id='data-a587de75-aca3-4254-9edd-b62b0e05d6bc' class='xr-var-data-in' type='checkbox'><label for='data-a587de75-aca3-4254-9edd-b62b0e05d6bc' title='Show/Hide data repr'><svg class='icon xr-icon-database'><use xlink:href='#icon-database'></use></svg></label><div class='xr-var-attrs'><dl class='xr-attrs'><dt><span>long_name :</span></dt><dd>Latitude of corner (Bu) points</dd><dt><span>units :</span></dt><dd>degrees_north</dd><dt><span>cell_methods :</span></dt><dd>time: point</dd><dt><span>interp_method :</span></dt><dd>none</dd></dl></div><div class='xr-var-data'><pre>[1555200 values with dtype=float32]</pre></div></li><li class='xr-var-item'><div class='xr-var-name'><span>geolon_u</span></div><div class='xr-var-dims'>(yh, xq)</div><div class='xr-var-dtype'>float32</div><div class='xr-var-preview xr-preview'>...</div><input id='attrs-4ca6c10f-f3a9-438a-98e6-dc125dec1bdf' class='xr-var-attrs-in' type='checkbox' ><label for='attrs-4ca6c10f-f3a9-438a-98e6-dc125dec1bdf' title='Show/Hide attributes'><svg class='icon xr-icon-file-text2'><use xlink:href='#icon-file-text2'></use></svg></label><input id='data-0aa94c26-f05c-4182-a517-b9972d5b39c3' class='xr-var-data-in' type='checkbox'><label for='data-0aa94c26-f05c-4182-a517-b9972d5b39c3' title='Show/Hide data repr'><svg class='icon xr-icon-database'><use xlink:href='#icon-database'></use></svg></label><div class='xr-var-attrs'><dl class='xr-attrs'><dt><span>long_name :</span></dt><dd>Longitude of zonal velocity (Cu) points</dd><dt><span>units :</span></dt><dd>degrees_east</dd><dt><span>cell_methods :</span></dt><dd>time: point</dd><dt><span>interp_method :</span></dt><dd>none</dd></dl></div><div class='xr-var-data'><pre>[1555200 values with dtype=float32]</pre></div></li><li class='xr-var-item'><div class='xr-var-name'><span>geolat_u</span></div><div class='xr-var-dims'>(yh, xq)</div><div class='xr-var-dtype'>float32</div><div class='xr-var-preview xr-preview'>...</div><input id='attrs-0e8c4efa-0597-4a7f-8b34-95296a1e4ddc' class='xr-var-attrs-in' type='checkbox' ><label for='attrs-0e8c4efa-0597-4a7f-8b34-95296a1e4ddc' title='Show/Hide attributes'><svg class='icon xr-icon-file-text2'><use xlink:href='#icon-file-text2'></use></svg></label><input id='data-766fd70f-d6fc-4588-a49a-38ac0b7c68bf' class='xr-var-data-in' type='checkbox'><label for='data-766fd70f-d6fc-4588-a49a-38ac0b7c68bf' title='Show/Hide data repr'><svg class='icon xr-icon-database'><use xlink:href='#icon-database'></use></svg></label><div class='xr-var-attrs'><dl class='xr-attrs'><dt><span>long_name :</span></dt><dd>Latitude of zonal velocity (Cu) points</dd><dt><span>units :</span></dt><dd>degrees_north</dd><dt><span>cell_methods :</span></dt><dd>time: point</dd><dt><span>interp_method :</span></dt><dd>none</dd></dl></div><div class='xr-var-data'><pre>[1555200 values with dtype=float32]</pre></div></li><li class='xr-var-item'><div class='xr-var-name'><span>geolon_v</span></div><div class='xr-var-dims'>(yq, xh)</div><div class='xr-var-dtype'>float32</div><div class='xr-var-preview xr-preview'>...</div><input id='attrs-b5b3ea24-1a4a-4b13-8a67-7f1a9598d949' class='xr-var-attrs-in' type='checkbox' ><label for='attrs-b5b3ea24-1a4a-4b13-8a67-7f1a9598d949' title='Show/Hide attributes'><svg class='icon xr-icon-file-text2'><use xlink:href='#icon-file-text2'></use></svg></label><input id='data-3fa3f589-86d1-444e-a941-ed3f0d9efb58' class='xr-var-data-in' type='checkbox'><label for='data-3fa3f589-86d1-444e-a941-ed3f0d9efb58' title='Show/Hide data repr'><svg class='icon xr-icon-database'><use xlink:href='#icon-database'></use></svg></label><div class='xr-var-attrs'><dl class='xr-attrs'><dt><span>long_name :</span></dt><dd>Longitude of meridional velocity (Cv) points</dd><dt><span>units :</span></dt><dd>degrees_east</dd><dt><span>cell_methods :</span></dt><dd>time: point</dd><dt><span>interp_method :</span></dt><dd>none</dd></dl></div><div class='xr-var-data'><pre>[1555200 values with dtype=float32]</pre></div></li><li class='xr-var-item'><div class='xr-var-name'><span>geolat_v</span></div><div class='xr-var-dims'>(yq, xh)</div><div class='xr-var-dtype'>float32</div><div class='xr-var-preview xr-preview'>...</div><input id='attrs-47d1819b-cf4f-4baa-b8a8-0540926f85c3' class='xr-var-attrs-in' type='checkbox' ><label for='attrs-47d1819b-cf4f-4baa-b8a8-0540926f85c3' title='Show/Hide attributes'><svg class='icon xr-icon-file-text2'><use xlink:href='#icon-file-text2'></use></svg></label><input id='data-8ca22ccb-6029-463b-beb8-e7ef36f5833a' class='xr-var-data-in' type='checkbox'><label for='data-8ca22ccb-6029-463b-beb8-e7ef36f5833a' title='Show/Hide data repr'><svg class='icon xr-icon-database'><use xlink:href='#icon-database'></use></svg></label><div class='xr-var-attrs'><dl class='xr-attrs'><dt><span>long_name :</span></dt><dd>Latitude of meridional velocity (Cv) points</dd><dt><span>units :</span></dt><dd>degrees_north</dd><dt><span>cell_methods :</span></dt><dd>time: point</dd><dt><span>interp_method :</span></dt><dd>none</dd></dl></div><div class='xr-var-data'><pre>[1555200 values with dtype=float32]</pre></div></li><li class='xr-var-item'><div class='xr-var-name'><span>wet</span></div><div class='xr-var-dims'>(yh, xh)</div><div class='xr-var-dtype'>float32</div><div class='xr-var-preview xr-preview'>...</div><input id='attrs-08ab3bcf-5cbb-49d0-85fc-33e6d1bd86da' class='xr-var-attrs-in' type='checkbox' ><label for='attrs-08ab3bcf-5cbb-49d0-85fc-33e6d1bd86da' title='Show/Hide attributes'><svg class='icon xr-icon-file-text2'><use xlink:href='#icon-file-text2'></use></svg></label><input id='data-0000d510-2c3b-42d1-aaf3-97de63dffc40' class='xr-var-data-in' type='checkbox'><label for='data-0000d510-2c3b-42d1-aaf3-97de63dffc40' title='Show/Hide data repr'><svg class='icon xr-icon-database'><use xlink:href='#icon-database'></use></svg></label><div class='xr-var-attrs'><dl class='xr-attrs'><dt><span>long_name :</span></dt><dd>0 if land, 1 if ocean at tracer points</dd><dt><span>units :</span></dt><dd>none</dd><dt><span>cell_methods :</span></dt><dd>time: point</dd><dt><span>cell_measures :</span></dt><dd>area: areacello</dd></dl></div><div class='xr-var-data'><pre>[1555200 values with dtype=float32]</pre></div></li><li class='xr-var-item'><div class='xr-var-name'><span>wet_c</span></div><div class='xr-var-dims'>(yq, xq)</div><div class='xr-var-dtype'>float32</div><div class='xr-var-preview xr-preview'>...</div><input id='attrs-fa5a6763-24a1-4980-8f3c-96356a921242' class='xr-var-attrs-in' type='checkbox' ><label for='attrs-fa5a6763-24a1-4980-8f3c-96356a921242' title='Show/Hide attributes'><svg class='icon xr-icon-file-text2'><use xlink:href='#icon-file-text2'></use></svg></label><input id='data-d72bb276-d08d-4181-a94a-1eab487a33ad' class='xr-var-data-in' type='checkbox'><label for='data-d72bb276-d08d-4181-a94a-1eab487a33ad' title='Show/Hide data repr'><svg class='icon xr-icon-database'><use xlink:href='#icon-database'></use></svg></label><div class='xr-var-attrs'><dl class='xr-attrs'><dt><span>long_name :</span></dt><dd>0 if land, 1 if ocean at corner (Bu) points</dd><dt><span>units :</span></dt><dd>none</dd><dt><span>cell_methods :</span></dt><dd>time: point</dd><dt><span>interp_method :</span></dt><dd>none</dd></dl></div><div class='xr-var-data'><pre>[1555200 values with dtype=float32]</pre></div></li><li class='xr-var-item'><div class='xr-var-name'><span>wet_u</span></div><div class='xr-var-dims'>(yh, xq)</div><div class='xr-var-dtype'>float32</div><div class='xr-var-preview xr-preview'>...</div><input id='attrs-1d92c670-28df-446d-980f-b8a04287d837' class='xr-var-attrs-in' type='checkbox' ><label for='attrs-1d92c670-28df-446d-980f-b8a04287d837' title='Show/Hide attributes'><svg class='icon xr-icon-file-text2'><use xlink:href='#icon-file-text2'></use></svg></label><input id='data-657c1b45-35f2-4010-8a15-0fd55596d540' class='xr-var-data-in' type='checkbox'><label for='data-657c1b45-35f2-4010-8a15-0fd55596d540' title='Show/Hide data repr'><svg class='icon xr-icon-database'><use xlink:href='#icon-database'></use></svg></label><div class='xr-var-attrs'><dl class='xr-attrs'><dt><span>long_name :</span></dt><dd>0 if land, 1 if ocean at zonal velocity (Cu) points</dd><dt><span>units :</span></dt><dd>none</dd><dt><span>cell_methods :</span></dt><dd>time: point</dd><dt><span>interp_method :</span></dt><dd>none</dd></dl></div><div class='xr-var-data'><pre>[1555200 values with dtype=float32]</pre></div></li><li class='xr-var-item'><div class='xr-var-name'><span>wet_v</span></div><div class='xr-var-dims'>(yq, xh)</div><div class='xr-var-dtype'>float32</div><div class='xr-var-preview xr-preview'>...</div><input id='attrs-969072a2-e374-4424-a81f-1e3c7cefe79b' class='xr-var-attrs-in' type='checkbox' ><label for='attrs-969072a2-e374-4424-a81f-1e3c7cefe79b' title='Show/Hide attributes'><svg class='icon xr-icon-file-text2'><use xlink:href='#icon-file-text2'></use></svg></label><input id='data-535b080c-e3fb-40f7-8e2b-20cbaeff720b' class='xr-var-data-in' type='checkbox'><label for='data-535b080c-e3fb-40f7-8e2b-20cbaeff720b' title='Show/Hide data repr'><svg class='icon xr-icon-database'><use xlink:href='#icon-database'></use></svg></label><div class='xr-var-attrs'><dl class='xr-attrs'><dt><span>long_name :</span></dt><dd>0 if land, 1 if ocean at meridional velocity (Cv) points</dd><dt><span>units :</span></dt><dd>none</dd><dt><span>cell_methods :</span></dt><dd>time: point</dd><dt><span>interp_method :</span></dt><dd>none</dd></dl></div><div class='xr-var-data'><pre>[1555200 values with dtype=float32]</pre></div></li><li class='xr-var-item'><div class='xr-var-name'><span>dxt</span></div><div class='xr-var-dims'>(yh, xh)</div><div class='xr-var-dtype'>float32</div><div class='xr-var-preview xr-preview'>...</div><input id='attrs-8d6e73d3-0d17-4586-ad81-426c7a5f9c0a' class='xr-var-attrs-in' type='checkbox' ><label for='attrs-8d6e73d3-0d17-4586-ad81-426c7a5f9c0a' title='Show/Hide attributes'><svg class='icon xr-icon-file-text2'><use xlink:href='#icon-file-text2'></use></svg></label><input id='data-87447b6f-b1d9-4aee-ba49-823b69365ce3' class='xr-var-data-in' type='checkbox'><label for='data-87447b6f-b1d9-4aee-ba49-823b69365ce3' title='Show/Hide data repr'><svg class='icon xr-icon-database'><use xlink:href='#icon-database'></use></svg></label><div class='xr-var-attrs'><dl class='xr-attrs'><dt><span>long_name :</span></dt><dd>Delta(x) at thickness/tracer points (meter)</dd><dt><span>units :</span></dt><dd>m</dd><dt><span>cell_methods :</span></dt><dd>time: point</dd><dt><span>interp_method :</span></dt><dd>none</dd></dl></div><div class='xr-var-data'><pre>[1555200 values with dtype=float32]</pre></div></li><li class='xr-var-item'><div class='xr-var-name'><span>dyt</span></div><div class='xr-var-dims'>(yh, xh)</div><div class='xr-var-dtype'>float32</div><div class='xr-var-preview xr-preview'>...</div><input id='attrs-f6594604-52c6-40b9-aaed-f83be021e69f' class='xr-var-attrs-in' type='checkbox' ><label for='attrs-f6594604-52c6-40b9-aaed-f83be021e69f' title='Show/Hide attributes'><svg class='icon xr-icon-file-text2'><use xlink:href='#icon-file-text2'></use></svg></label><input id='data-a4f6a605-5ec8-4691-aef6-aa528bfb2073' class='xr-var-data-in' type='checkbox'><label for='data-a4f6a605-5ec8-4691-aef6-aa528bfb2073' title='Show/Hide data repr'><svg class='icon xr-icon-database'><use xlink:href='#icon-database'></use></svg></label><div class='xr-var-attrs'><dl class='xr-attrs'><dt><span>long_name :</span></dt><dd>Delta(y) at thickness/tracer points (meter)</dd><dt><span>units :</span></dt><dd>m</dd><dt><span>cell_methods :</span></dt><dd>time: point</dd><dt><span>interp_method :</span></dt><dd>none</dd></dl></div><div class='xr-var-data'><pre>[1555200 values with dtype=float32]</pre></div></li><li class='xr-var-item'><div class='xr-var-name'><span>dxCu</span></div><div class='xr-var-dims'>(yh, xq)</div><div class='xr-var-dtype'>float32</div><div class='xr-var-preview xr-preview'>...</div><input id='attrs-3bb84319-2738-4f25-8e47-f5e4c6803810' class='xr-var-attrs-in' type='checkbox' ><label for='attrs-3bb84319-2738-4f25-8e47-f5e4c6803810' title='Show/Hide attributes'><svg class='icon xr-icon-file-text2'><use xlink:href='#icon-file-text2'></use></svg></label><input id='data-1916d105-b9e5-4537-b186-e10029482fdd' class='xr-var-data-in' type='checkbox'><label for='data-1916d105-b9e5-4537-b186-e10029482fdd' title='Show/Hide data repr'><svg class='icon xr-icon-database'><use xlink:href='#icon-database'></use></svg></label><div class='xr-var-attrs'><dl class='xr-attrs'><dt><span>long_name :</span></dt><dd>Delta(x) at u points (meter)</dd><dt><span>units :</span></dt><dd>m</dd><dt><span>cell_methods :</span></dt><dd>time: point</dd><dt><span>interp_method :</span></dt><dd>none</dd></dl></div><div class='xr-var-data'><pre>[1555200 values with dtype=float32]</pre></div></li><li class='xr-var-item'><div class='xr-var-name'><span>dyCu</span></div><div class='xr-var-dims'>(yh, xq)</div><div class='xr-var-dtype'>float32</div><div class='xr-var-preview xr-preview'>...</div><input id='attrs-cd82ae8c-aef7-4a6a-8507-7552fcd1eb72' class='xr-var-attrs-in' type='checkbox' ><label for='attrs-cd82ae8c-aef7-4a6a-8507-7552fcd1eb72' title='Show/Hide attributes'><svg class='icon xr-icon-file-text2'><use xlink:href='#icon-file-text2'></use></svg></label><input id='data-c0698447-bdd9-4f7f-b27a-55fb2b50224a' class='xr-var-data-in' type='checkbox'><label for='data-c0698447-bdd9-4f7f-b27a-55fb2b50224a' title='Show/Hide data repr'><svg class='icon xr-icon-database'><use xlink:href='#icon-database'></use></svg></label><div class='xr-var-attrs'><dl class='xr-attrs'><dt><span>long_name :</span></dt><dd>Delta(y) at u points (meter)</dd><dt><span>units :</span></dt><dd>m</dd><dt><span>cell_methods :</span></dt><dd>time: point</dd><dt><span>interp_method :</span></dt><dd>none</dd></dl></div><div class='xr-var-data'><pre>[1555200 values with dtype=float32]</pre></div></li><li class='xr-var-item'><div class='xr-var-name'><span>dxCv</span></div><div class='xr-var-dims'>(yq, xh)</div><div class='xr-var-dtype'>float32</div><div class='xr-var-preview xr-preview'>...</div><input id='attrs-8dc2a691-fc7d-45d9-9028-f209cce11989' class='xr-var-attrs-in' type='checkbox' ><label for='attrs-8dc2a691-fc7d-45d9-9028-f209cce11989' title='Show/Hide attributes'><svg class='icon xr-icon-file-text2'><use xlink:href='#icon-file-text2'></use></svg></label><input id='data-906a93d0-d5b9-491d-b343-f9f3a0355b22' class='xr-var-data-in' type='checkbox'><label for='data-906a93d0-d5b9-491d-b343-f9f3a0355b22' title='Show/Hide data repr'><svg class='icon xr-icon-database'><use xlink:href='#icon-database'></use></svg></label><div class='xr-var-attrs'><dl class='xr-attrs'><dt><span>long_name :</span></dt><dd>Delta(x) at v points (meter)</dd><dt><span>units :</span></dt><dd>m</dd><dt><span>cell_methods :</span></dt><dd>time: point</dd><dt><span>interp_method :</span></dt><dd>none</dd></dl></div><div class='xr-var-data'><pre>[1555200 values with dtype=float32]</pre></div></li><li class='xr-var-item'><div class='xr-var-name'><span>dyCv</span></div><div class='xr-var-dims'>(yq, xh)</div><div class='xr-var-dtype'>float32</div><div class='xr-var-preview xr-preview'>...</div><input id='attrs-4f7521cb-0b18-4376-b8c0-52ed2b1cb343' class='xr-var-attrs-in' type='checkbox' ><label for='attrs-4f7521cb-0b18-4376-b8c0-52ed2b1cb343' title='Show/Hide attributes'><svg class='icon xr-icon-file-text2'><use xlink:href='#icon-file-text2'></use></svg></label><input id='data-923c1d68-5d6e-47b5-be14-3a5a441bd101' class='xr-var-data-in' type='checkbox'><label for='data-923c1d68-5d6e-47b5-be14-3a5a441bd101' title='Show/Hide data repr'><svg class='icon xr-icon-database'><use xlink:href='#icon-database'></use></svg></label><div class='xr-var-attrs'><dl class='xr-attrs'><dt><span>long_name :</span></dt><dd>Delta(y) at v points (meter)</dd><dt><span>units :</span></dt><dd>m</dd><dt><span>cell_methods :</span></dt><dd>time: point</dd><dt><span>interp_method :</span></dt><dd>none</dd></dl></div><div class='xr-var-data'><pre>[1555200 values with dtype=float32]</pre></div></li><li class='xr-var-item'><div class='xr-var-name'><span>areacello_cu</span></div><div class='xr-var-dims'>(yh, xq)</div><div class='xr-var-dtype'>float32</div><div class='xr-var-preview xr-preview'>...</div><input id='attrs-e2fa748b-6955-4a16-80da-338652032b27' class='xr-var-attrs-in' type='checkbox' ><label for='attrs-e2fa748b-6955-4a16-80da-338652032b27' title='Show/Hide attributes'><svg class='icon xr-icon-file-text2'><use xlink:href='#icon-file-text2'></use></svg></label><input id='data-76b5c8a7-8cd5-47d3-a433-df04fc98a000' class='xr-var-data-in' type='checkbox'><label for='data-76b5c8a7-8cd5-47d3-a433-df04fc98a000' title='Show/Hide data repr'><svg class='icon xr-icon-database'><use xlink:href='#icon-database'></use></svg></label><div class='xr-var-attrs'><dl class='xr-attrs'><dt><span>long_name :</span></dt><dd>Ocean Grid-Cell Area</dd><dt><span>units :</span></dt><dd>m2</dd><dt><span>cell_methods :</span></dt><dd>area:sum yh:sum xq:sum time: point</dd><dt><span>standard_name :</span></dt><dd>cell_area</dd></dl></div><div class='xr-var-data'><pre>[1555200 values with dtype=float32]</pre></div></li><li class='xr-var-item'><div class='xr-var-name'><span>areacello_cv</span></div><div class='xr-var-dims'>(yq, xh)</div><div class='xr-var-dtype'>float32</div><div class='xr-var-preview xr-preview'>...</div><input id='attrs-e3f893d8-aad0-4f45-be79-5be18e602b7e' class='xr-var-attrs-in' type='checkbox' ><label for='attrs-e3f893d8-aad0-4f45-be79-5be18e602b7e' title='Show/Hide attributes'><svg class='icon xr-icon-file-text2'><use xlink:href='#icon-file-text2'></use></svg></label><input id='data-eeef4a70-8d11-4a0c-a76e-34e2430b185f' class='xr-var-data-in' type='checkbox'><label for='data-eeef4a70-8d11-4a0c-a76e-34e2430b185f' title='Show/Hide data repr'><svg class='icon xr-icon-database'><use xlink:href='#icon-database'></use></svg></label><div class='xr-var-attrs'><dl class='xr-attrs'><dt><span>long_name :</span></dt><dd>Ocean Grid-Cell Area</dd><dt><span>units :</span></dt><dd>m2</dd><dt><span>cell_methods :</span></dt><dd>area:sum yq:sum xh:sum time: point</dd><dt><span>standard_name :</span></dt><dd>cell_area</dd></dl></div><div class='xr-var-data'><pre>[1555200 values with dtype=float32]</pre></div></li><li class='xr-var-item'><div class='xr-var-name'><span>areacello_bu</span></div><div class='xr-var-dims'>(yq, xq)</div><div class='xr-var-dtype'>float32</div><div class='xr-var-preview xr-preview'>...</div><input id='attrs-e9ae0506-38e1-482f-8f60-c54d0698508a' class='xr-var-attrs-in' type='checkbox' ><label for='attrs-e9ae0506-38e1-482f-8f60-c54d0698508a' title='Show/Hide attributes'><svg class='icon xr-icon-file-text2'><use xlink:href='#icon-file-text2'></use></svg></label><input id='data-ad640e49-28a1-451b-a3db-6835b9a656e2' class='xr-var-data-in' type='checkbox'><label for='data-ad640e49-28a1-451b-a3db-6835b9a656e2' title='Show/Hide data repr'><svg class='icon xr-icon-database'><use xlink:href='#icon-database'></use></svg></label><div class='xr-var-attrs'><dl class='xr-attrs'><dt><span>long_name :</span></dt><dd>Ocean Grid-Cell Area</dd><dt><span>units :</span></dt><dd>m2</dd><dt><span>cell_methods :</span></dt><dd>area:sum yq:sum xq:sum time: point</dd><dt><span>standard_name :</span></dt><dd>cell_area</dd></dl></div><div class='xr-var-data'><pre>[1555200 values with dtype=float32]</pre></div></li><li class='xr-var-item'><div class='xr-var-name'><span>basin</span></div><div class='xr-var-dims'>(yh, xh)</div><div class='xr-var-dtype'>int32</div><div class='xr-var-preview xr-preview'>...</div><input id='attrs-7d35c391-4c58-4693-9c65-37767b86ef2b' class='xr-var-attrs-in' type='checkbox' ><label for='attrs-7d35c391-4c58-4693-9c65-37767b86ef2b' title='Show/Hide attributes'><svg class='icon xr-icon-file-text2'><use xlink:href='#icon-file-text2'></use></svg></label><input id='data-262817b1-9833-480a-ba9c-3c26da517b1a' class='xr-var-data-in' type='checkbox'><label for='data-262817b1-9833-480a-ba9c-3c26da517b1a' title='Show/Hide data repr'><svg class='icon xr-icon-database'><use xlink:href='#icon-database'></use></svg></label><div class='xr-var-attrs'><dl class='xr-attrs'><dt><span>long_name :</span></dt><dd>Region Selection Index</dd><dt><span>standard_name :</span></dt><dd>region</dd><dt><span>units :</span></dt><dd>1.0</dd><dt><span>interp_method :</span></dt><dd>none</dd><dt><span>flag_values :</span></dt><dd>0 1 2 3 4 5 6 7 8 9 10</dd><dt><span>flag_meanings :</span></dt><dd>global_land southern_ocean atlantic_ocean pacific_ocean arctic_ocean indian_ocean mediterranean_sea black_sea hudson_bay baltic_sea red_sea</dd></dl></div><div class='xr-var-data'><pre>[1555200 values with dtype=int32]</pre></div></li></ul></div></li><li class='xr-section-item'><input id='section-e9f0629b-de99-4b3f-9d56-46cd9f5cfd38' class='xr-section-summary-in' type='checkbox'  ><label for='section-e9f0629b-de99-4b3f-9d56-46cd9f5cfd38' class='xr-section-summary' >Indexes: <span>(5)</span></label><div class='xr-section-inline-details'></div><div class='xr-section-details'><ul class='xr-var-list'><li class='xr-var-item'><div class='xr-index-name'><div>xh</div></div><div class='xr-index-preview'>PandasIndex</div><div></div><input id='index-60fed3e4-62c3-4fb8-80f4-02bf658f1be8' class='xr-index-data-in' type='checkbox'/><label for='index-60fed3e4-62c3-4fb8-80f4-02bf658f1be8' title='Show/Hide index repr'><svg class='icon xr-icon-database'><use xlink:href='#icon-database'></use></svg></label><div class='xr-index-data'><pre>PandasIndex(Float64Index([-299.72424385142534, -299.47619795417893, -299.22815003129284,\n",
       "               -298.9801000979502, -298.73204816972844, -298.48399426259493,\n",
       "               -298.2359383929031, -297.98788057738807,  -297.7398208331622,\n",
       "              -297.49175917771095,\n",
       "              ...\n",
       "                 57.7954116364209,    58.0434365318752,   58.29146358221654,\n",
       "                58.53949277642749,   58.78752410305645,    59.0355575502213,\n",
       "               59.283593105613505,   59.53163075650182,   59.77967048973631,\n",
       "                60.02771229175239],\n",
       "             dtype=&#x27;float64&#x27;, name=&#x27;xh&#x27;, length=1440))</pre></div></li><li class='xr-var-item'><div class='xr-index-name'><div>yh</div></div><div class='xr-index-preview'>PandasIndex</div><div></div><input id='index-2bbd6294-0fe4-481f-9adc-425497b0645e' class='xr-index-data-in' type='checkbox'/><label for='index-2bbd6294-0fe4-481f-9adc-425497b0645e' title='Show/Hide index repr'><svg class='icon xr-icon-database'><use xlink:href='#icon-database'></use></svg></label><div class='xr-index-data'><pre>PandasIndex(Float64Index([-80.38923793857394, -80.30807479101273, -80.22691082925455,\n",
       "              -80.14574767486899, -80.06458691047965,  -79.9834300812582,\n",
       "              -79.90227869634805, -79.82113423022128, -79.73999812397257,\n",
       "              -79.65887178655316,\n",
       "              ...\n",
       "                88.9731671559671,  89.08125482376003,  89.18934249155296,\n",
       "               89.29743015934592,  89.40551782713882,  89.51360549493178,\n",
       "               89.62169316272471,  89.72978083051767,  89.83786849831056,\n",
       "                89.9459561661037],\n",
       "             dtype=&#x27;float64&#x27;, name=&#x27;yh&#x27;, length=1080))</pre></div></li><li class='xr-var-item'><div class='xr-index-name'><div>time</div></div><div class='xr-index-preview'>PandasIndex</div><div></div><input id='index-d7c974fd-91e1-4eab-b254-fbc7d302c078' class='xr-index-data-in' type='checkbox'/><label for='index-d7c974fd-91e1-4eab-b254-fbc7d302c078' title='Show/Hide index repr'><svg class='icon xr-icon-database'><use xlink:href='#icon-database'></use></svg></label><div class='xr-index-data'><pre>PandasIndex(Float64Index([0.0], dtype=&#x27;float64&#x27;, name=&#x27;time&#x27;))</pre></div></li><li class='xr-var-item'><div class='xr-index-name'><div>xq</div></div><div class='xr-index-preview'>PandasIndex</div><div></div><input id='index-48915bda-fbb8-4739-bc79-15bc9819496b' class='xr-index-data-in' type='checkbox'/><label for='index-48915bda-fbb8-4739-bc79-15bc9819496b' title='Show/Hide index repr'><svg class='icon xr-icon-database'><use xlink:href='#icon-database'></use></svg></label><div class='xr-index-data'><pre>PandasIndex(Float64Index([ -299.5943552901672, -299.34638489675444, -299.09841240498736,\n",
       "              -298.85043783087235, -298.60246119082325,  -298.3544825016569,\n",
       "               -298.1065017805884,  -297.8585190452273, -297.61053431357254,\n",
       "              -297.36254760400817,\n",
       "              ...\n",
       "                57.92605940685515,  58.174008029019525,  58.421958886267745,\n",
       "                58.66991196689831,   58.91786725876078,   59.16582474925989,\n",
       "                59.41378442535931,   59.66174627358603,   59.90971028003419,\n",
       "                60.15767643036936],\n",
       "             dtype=&#x27;float64&#x27;, name=&#x27;xq&#x27;, length=1440))</pre></div></li><li class='xr-var-item'><div class='xr-index-name'><div>yq</div></div><div class='xr-index-preview'>PandasIndex</div><div></div><input id='index-c829e1a9-c62a-47ba-b822-3901560ade25' class='xr-index-data-in' type='checkbox'/><label for='index-c829e1a9-c62a-47ba-b822-3901560ade25' title='Show/Hide index repr'><svg class='icon xr-icon-database'><use xlink:href='#icon-database'></use></svg></label><div class='xr-index-data'><pre>PandasIndex(Float64Index([-80.34865656947974, -80.26749280962936, -80.18632905133127,\n",
       "               -80.1051668964908, -80.02400790882328, -79.94285361531256,\n",
       "              -79.86170550760079, -79.78056504331342, -79.69943364732279,\n",
       "              -79.61831271295333,\n",
       "              ...\n",
       "               89.02721098986355,   89.1352986576565,  89.24338632544942,\n",
       "               89.35147399324238,  89.45956166103532,  89.56764932882824,\n",
       "               89.67573699662118,  89.78382466441413,  89.89191233220704,\n",
       "                            90.0],\n",
       "             dtype=&#x27;float64&#x27;, name=&#x27;yq&#x27;, length=1080))</pre></div></li></ul></div></li><li class='xr-section-item'><input id='section-c301ac02-c230-459e-8574-3d276050e1c8' class='xr-section-summary-in' type='checkbox'  checked><label for='section-c301ac02-c230-459e-8574-3d276050e1c8' class='xr-section-summary' >Attributes: <span>(4)</span></label><div class='xr-section-inline-details'></div><div class='xr-section-details'><dl class='xr-attrs'><dt><span>filename :</span></dt><dd>19000101.ocean_static.nc</dd><dt><span>title :</span></dt><dd>OM4_SIS2_cgrid_025</dd><dt><span>grid_type :</span></dt><dd>regular</dd><dt><span>grid_tile :</span></dt><dd>N/A</dd></dl></div></li></ul></div></div>"
      ],
      "text/plain": [
       "<xarray.Dataset>\n",
       "Dimensions:       (xh: 1440, yh: 1080, time: 1, xq: 1440, yq: 1080)\n",
       "Coordinates:\n",
       "  * xh            (xh) float64 -299.7 -299.5 -299.2 -299.0 ... 59.53 59.78 60.03\n",
       "  * yh            (yh) float64 -80.39 -80.31 -80.23 -80.15 ... 89.73 89.84 89.95\n",
       "  * time          (time) float64 0.0\n",
       "  * xq            (xq) float64 -299.6 -299.3 -299.1 -298.9 ... 59.66 59.91 60.16\n",
       "  * yq            (yq) float64 -80.35 -80.27 -80.19 -80.11 ... 89.78 89.89 90.0\n",
       "Data variables: (12/27)\n",
       "    areacello     (yh, xh) float32 ...\n",
       "    deptho        (yh, xh) float32 ...\n",
       "    hfgeou        (yh, xh) float32 ...\n",
       "    sftof         (yh, xh) float32 ...\n",
       "    Coriolis      (yq, xq) float32 ...\n",
       "    geolon        (yh, xh) float32 ...\n",
       "    ...            ...\n",
       "    dxCv          (yq, xh) float32 ...\n",
       "    dyCv          (yq, xh) float32 ...\n",
       "    areacello_cu  (yh, xq) float32 ...\n",
       "    areacello_cv  (yq, xh) float32 ...\n",
       "    areacello_bu  (yq, xq) float32 ...\n",
       "    basin         (yh, xh) int32 ...\n",
       "Attributes:\n",
       "    filename:   19000101.ocean_static.nc\n",
       "    title:      OM4_SIS2_cgrid_025\n",
       "    grid_type:  regular\n",
       "    grid_tile:  N/A"
      ]
     },
     "execution_count": 32,
     "metadata": {},
     "output_type": "execute_result"
    }
   ],
   "source": [
    "static = \"/work/Katherine.Turner/tempest-extremes/odiv-251/data/tripolar_data/ocean_static.nc\"\n",
    "fn = \"bilinear_540x720_180x360.nc\"\n",
    "\n",
    "ds_static = xr.open_dataset(static,decode_times=False)\n",
    "ds_static"
   ]
  },
  {
   "cell_type": "code",
   "execution_count": 11,
   "id": "0ba0342e-c347-4c31-925f-6b64cb9e37e1",
   "metadata": {
    "jupyter": {
     "source_hidden": true
    },
    "tags": []
   },
   "outputs": [],
   "source": [
    "expname = \"odiv-251\"\n",
    "varname = \"ssu\"\n",
    "files_to_regrid = sorted(glob.glob(f\"/work/Katherine.Turner/tempest-extremes/{expname}/data/tripolar_data/*{varname}.nc\"))\n",
    "\n",
    "i=0\n",
    "\n",
    "file_out_tail = files_to_regrid[i].split(\"/\")[-1][:-3]+\".regrid.nc\"\n",
    "file_out = f\"/work/Katherine.Turner/tempest-extremes/{expname}/data/{file_out_tail}\"\n",
    "file_out\n",
    "\n",
    "ds = xr.open_dataset(files_to_regrid[i], use_cftime=True)"
   ]
  },
  {
   "cell_type": "code",
   "execution_count": 33,
   "id": "12050d31-9f50-46a0-a6ce-95ea346d49d0",
   "metadata": {
    "tags": []
   },
   "outputs": [
    {
     "data": {
      "text/plain": [
       "['time', 'nv', 'yh', 'xq']"
      ]
     },
     "execution_count": 33,
     "metadata": {},
     "output_type": "execute_result"
    }
   ],
   "source": [
    "list(ds.dims)"
   ]
  },
  {
   "cell_type": "code",
   "execution_count": 18,
   "id": "350cb0ad-9724-4784-8e8f-c99cf2b9fc31",
   "metadata": {
    "tags": []
   },
   "outputs": [
    {
     "name": "stderr",
     "output_type": "stream",
     "text": [
      "/nbhome/Katherine.Turner/miniconda3/envs/py310/lib/python3.10/site-packages/xesmf/backend.py:41: UserWarning: Input array is not F_CONTIGUOUS. Will affect performance.\n",
      "  warnings.warn('Input array is not F_CONTIGUOUS. ' 'Will affect performance.')\n"
     ]
    },
    {
     "name": "stdout",
     "output_type": "stream",
     "text": [
      "151\n"
     ]
    },
    {
     "name": "stderr",
     "output_type": "stream",
     "text": [
      "/nbhome/Katherine.Turner/miniconda3/envs/py310/lib/python3.10/site-packages/xesmf/backend.py:41: UserWarning: Input array is not F_CONTIGUOUS. Will affect performance.\n",
      "  warnings.warn('Input array is not F_CONTIGUOUS. ' 'Will affect performance.')\n"
     ]
    },
    {
     "name": "stdout",
     "output_type": "stream",
     "text": [
      "156\n"
     ]
    },
    {
     "name": "stderr",
     "output_type": "stream",
     "text": [
      "/nbhome/Katherine.Turner/miniconda3/envs/py310/lib/python3.10/site-packages/xesmf/backend.py:41: UserWarning: Input array is not F_CONTIGUOUS. Will affect performance.\n",
      "  warnings.warn('Input array is not F_CONTIGUOUS. ' 'Will affect performance.')\n"
     ]
    },
    {
     "name": "stdout",
     "output_type": "stream",
     "text": [
      "161\n"
     ]
    },
    {
     "name": "stderr",
     "output_type": "stream",
     "text": [
      "/nbhome/Katherine.Turner/miniconda3/envs/py310/lib/python3.10/site-packages/xesmf/backend.py:41: UserWarning: Input array is not F_CONTIGUOUS. Will affect performance.\n",
      "  warnings.warn('Input array is not F_CONTIGUOUS. ' 'Will affect performance.')\n"
     ]
    },
    {
     "name": "stdout",
     "output_type": "stream",
     "text": [
      "166\n"
     ]
    },
    {
     "name": "stderr",
     "output_type": "stream",
     "text": [
      "/nbhome/Katherine.Turner/miniconda3/envs/py310/lib/python3.10/site-packages/xesmf/backend.py:41: UserWarning: Input array is not F_CONTIGUOUS. Will affect performance.\n",
      "  warnings.warn('Input array is not F_CONTIGUOUS. ' 'Will affect performance.')\n"
     ]
    },
    {
     "name": "stdout",
     "output_type": "stream",
     "text": [
      "171\n"
     ]
    },
    {
     "name": "stderr",
     "output_type": "stream",
     "text": [
      "/nbhome/Katherine.Turner/miniconda3/envs/py310/lib/python3.10/site-packages/xesmf/backend.py:41: UserWarning: Input array is not F_CONTIGUOUS. Will affect performance.\n",
      "  warnings.warn('Input array is not F_CONTIGUOUS. ' 'Will affect performance.')\n"
     ]
    },
    {
     "name": "stdout",
     "output_type": "stream",
     "text": [
      "176\n"
     ]
    },
    {
     "name": "stderr",
     "output_type": "stream",
     "text": [
      "/nbhome/Katherine.Turner/miniconda3/envs/py310/lib/python3.10/site-packages/xesmf/backend.py:41: UserWarning: Input array is not F_CONTIGUOUS. Will affect performance.\n",
      "  warnings.warn('Input array is not F_CONTIGUOUS. ' 'Will affect performance.')\n"
     ]
    },
    {
     "name": "stdout",
     "output_type": "stream",
     "text": [
      "181\n"
     ]
    },
    {
     "name": "stderr",
     "output_type": "stream",
     "text": [
      "/nbhome/Katherine.Turner/miniconda3/envs/py310/lib/python3.10/site-packages/xesmf/backend.py:41: UserWarning: Input array is not F_CONTIGUOUS. Will affect performance.\n",
      "  warnings.warn('Input array is not F_CONTIGUOUS. ' 'Will affect performance.')\n"
     ]
    },
    {
     "name": "stdout",
     "output_type": "stream",
     "text": [
      "186\n"
     ]
    },
    {
     "name": "stderr",
     "output_type": "stream",
     "text": [
      "/nbhome/Katherine.Turner/miniconda3/envs/py310/lib/python3.10/site-packages/xesmf/backend.py:41: UserWarning: Input array is not F_CONTIGUOUS. Will affect performance.\n",
      "  warnings.warn('Input array is not F_CONTIGUOUS. ' 'Will affect performance.')\n"
     ]
    },
    {
     "name": "stdout",
     "output_type": "stream",
     "text": [
      "191\n"
     ]
    },
    {
     "name": "stderr",
     "output_type": "stream",
     "text": [
      "/nbhome/Katherine.Turner/miniconda3/envs/py310/lib/python3.10/site-packages/xesmf/backend.py:41: UserWarning: Input array is not F_CONTIGUOUS. Will affect performance.\n",
      "  warnings.warn('Input array is not F_CONTIGUOUS. ' 'Will affect performance.')\n"
     ]
    },
    {
     "name": "stdout",
     "output_type": "stream",
     "text": [
      "196\n"
     ]
    },
    {
     "name": "stderr",
     "output_type": "stream",
     "text": [
      "/nbhome/Katherine.Turner/miniconda3/envs/py310/lib/python3.10/site-packages/xesmf/backend.py:41: UserWarning: Input array is not F_CONTIGUOUS. Will affect performance.\n",
      "  warnings.warn('Input array is not F_CONTIGUOUS. ' 'Will affect performance.')\n"
     ]
    },
    {
     "name": "stdout",
     "output_type": "stream",
     "text": [
      "201\n"
     ]
    },
    {
     "name": "stderr",
     "output_type": "stream",
     "text": [
      "/nbhome/Katherine.Turner/miniconda3/envs/py310/lib/python3.10/site-packages/xesmf/backend.py:41: UserWarning: Input array is not F_CONTIGUOUS. Will affect performance.\n",
      "  warnings.warn('Input array is not F_CONTIGUOUS. ' 'Will affect performance.')\n"
     ]
    },
    {
     "name": "stdout",
     "output_type": "stream",
     "text": [
      "206\n"
     ]
    },
    {
     "name": "stderr",
     "output_type": "stream",
     "text": [
      "/nbhome/Katherine.Turner/miniconda3/envs/py310/lib/python3.10/site-packages/xesmf/backend.py:41: UserWarning: Input array is not F_CONTIGUOUS. Will affect performance.\n",
      "  warnings.warn('Input array is not F_CONTIGUOUS. ' 'Will affect performance.')\n"
     ]
    },
    {
     "name": "stdout",
     "output_type": "stream",
     "text": [
      "211\n"
     ]
    },
    {
     "name": "stderr",
     "output_type": "stream",
     "text": [
      "/nbhome/Katherine.Turner/miniconda3/envs/py310/lib/python3.10/site-packages/xesmf/backend.py:41: UserWarning: Input array is not F_CONTIGUOUS. Will affect performance.\n",
      "  warnings.warn('Input array is not F_CONTIGUOUS. ' 'Will affect performance.')\n"
     ]
    },
    {
     "name": "stdout",
     "output_type": "stream",
     "text": [
      "216\n"
     ]
    },
    {
     "name": "stderr",
     "output_type": "stream",
     "text": [
      "/nbhome/Katherine.Turner/miniconda3/envs/py310/lib/python3.10/site-packages/xesmf/backend.py:41: UserWarning: Input array is not F_CONTIGUOUS. Will affect performance.\n",
      "  warnings.warn('Input array is not F_CONTIGUOUS. ' 'Will affect performance.')\n"
     ]
    },
    {
     "name": "stdout",
     "output_type": "stream",
     "text": [
      "221\n"
     ]
    },
    {
     "name": "stderr",
     "output_type": "stream",
     "text": [
      "/nbhome/Katherine.Turner/miniconda3/envs/py310/lib/python3.10/site-packages/xesmf/backend.py:41: UserWarning: Input array is not F_CONTIGUOUS. Will affect performance.\n",
      "  warnings.warn('Input array is not F_CONTIGUOUS. ' 'Will affect performance.')\n"
     ]
    },
    {
     "name": "stdout",
     "output_type": "stream",
     "text": [
      "226\n"
     ]
    },
    {
     "name": "stderr",
     "output_type": "stream",
     "text": [
      "/nbhome/Katherine.Turner/miniconda3/envs/py310/lib/python3.10/site-packages/xesmf/backend.py:41: UserWarning: Input array is not F_CONTIGUOUS. Will affect performance.\n",
      "  warnings.warn('Input array is not F_CONTIGUOUS. ' 'Will affect performance.')\n"
     ]
    },
    {
     "name": "stdout",
     "output_type": "stream",
     "text": [
      "231\n"
     ]
    },
    {
     "name": "stderr",
     "output_type": "stream",
     "text": [
      "/nbhome/Katherine.Turner/miniconda3/envs/py310/lib/python3.10/site-packages/xesmf/backend.py:41: UserWarning: Input array is not F_CONTIGUOUS. Will affect performance.\n",
      "  warnings.warn('Input array is not F_CONTIGUOUS. ' 'Will affect performance.')\n"
     ]
    },
    {
     "name": "stdout",
     "output_type": "stream",
     "text": [
      "236\n"
     ]
    },
    {
     "name": "stderr",
     "output_type": "stream",
     "text": [
      "/nbhome/Katherine.Turner/miniconda3/envs/py310/lib/python3.10/site-packages/xesmf/backend.py:41: UserWarning: Input array is not F_CONTIGUOUS. Will affect performance.\n",
      "  warnings.warn('Input array is not F_CONTIGUOUS. ' 'Will affect performance.')\n"
     ]
    },
    {
     "name": "stdout",
     "output_type": "stream",
     "text": [
      "241\n"
     ]
    }
   ],
   "source": [
    "for i in start_year:\n",
    "    ds = xr.open_dataset(f\"ocean_daily_gfdl.0{i}0101-0{i+4}1231.{var}.nc\" ,use_cftime=True)\n",
    "\n",
    "    ds_grid = xr.Dataset({\n",
    "        \"lon_b\":xr.DataArray(ds_static[\"geolon_u\"].values[::2,::2],dims=(\"yqb\",\"xhb\")),\n",
    "        \"lat_b\":xr.DataArray(ds_static[\"geolat_u\"].values[::2,::2],dims=(\"yqb\",\"xhb\")),\n",
    "        \"lon\":xr.DataArray(ds_static[\"geolon_u\"].values[1::2,1::2],dims=(\"yq\",\"xh\")),\n",
    "        \"lat\":xr.DataArray(ds_static[\"geolat_u\"].values[1::2,1::2],dims=(\"yq\",\"xh\")),\n",
    "    })\n",
    "\n",
    "    ds2 = xr.Dataset({\n",
    "        \"ssv\":ds.ssv[:,1::2,1::2].assign_coords({\"time\":ds.time,\"lat\":ds_grid.lat,\"lon\":ds_grid.lon}),\n",
    "        \"lat_b\":ds_grid.lat_b,\n",
    "        \"lon_b\":ds_grid.lon_b,\n",
    "    })\n",
    "\n",
    "    ds2 = ds2.assign_coords({\"xh\":np.arange(1,len(ds2.xh)+1), \"yq\":np.arange(1,len(ds2.yq)+1)})\n",
    "    ds_out = xe.util.grid_global(1, 1)\n",
    "\n",
    "    regridder = xe.Regridder(ds2, ds_out, \"bilinear\", weights=fn)\n",
    "    dr_out = regridder(ds2[var], keep_attrs=True)\n",
    "\n",
    "    dsout = xr.Dataset({\"ssv\":dr_out})\n",
    "    dsout.to_netcdf(f\"../ocean_daily_gfdl.1x1regrid.0{i}0101-0{i+4}1231.{var}.nc\")\n",
    "    print(i)"
   ]
  },
  {
   "cell_type": "code",
   "execution_count": null,
   "id": "6ddae5f1-867d-462c-85a3-99e353c9b065",
   "metadata": {
    "tags": []
   },
   "outputs": [],
   "source": [
    "ds.tauvo[0,:,:].plot()"
   ]
  },
  {
   "cell_type": "code",
   "execution_count": null,
   "id": "3cb84886-f0db-44c0-8e3b-3cfbb7455a91",
   "metadata": {
    "tags": []
   },
   "outputs": [],
   "source": [
    "dsout.tauvo[0,:,:].plot()"
   ]
  },
  {
   "cell_type": "code",
   "execution_count": null,
   "id": "7d8c51cf-bd4f-48f9-a512-3c1d527351c0",
   "metadata": {},
   "outputs": [],
   "source": []
  }
 ],
 "metadata": {
  "kernelspec": {
   "display_name": "Python 3 (ipykernel)",
   "language": "python",
   "name": "python3"
  },
  "language_info": {
   "codemirror_mode": {
    "name": "ipython",
    "version": 3
   },
   "file_extension": ".py",
   "mimetype": "text/x-python",
   "name": "python",
   "nbconvert_exporter": "python",
   "pygments_lexer": "ipython3",
   "version": "3.10.10"
  }
 },
 "nbformat": 4,
 "nbformat_minor": 5
}
