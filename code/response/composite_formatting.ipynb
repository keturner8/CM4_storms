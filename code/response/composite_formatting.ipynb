{
 "cells": [
  {
   "cell_type": "code",
   "execution_count": 1,
   "id": "bb16788f-91e5-4340-8c37-fe3b670e73ed",
   "metadata": {
    "tags": []
   },
   "outputs": [],
   "source": [
    "import xesmf as xe\n",
    "import xarray as xr\n",
    "import numpy as np\n",
    "import glob\n",
    "import os\n",
    "from netCDF4 import Dataset"
   ]
  },
  {
   "cell_type": "code",
   "execution_count": null,
   "id": "1843d7b5-3a48-42e8-9c41-04af2c4de0be",
   "metadata": {
    "jupyter": {
     "source_hidden": true
    },
    "tags": []
   },
   "outputs": [],
   "source": [
    "def ocean_regrid(expname, varname):\n",
    "    path_atm = glob.glob(f'/work/Katherine.Turner/tempest-extremes/{expname}/data/*.slp.nc')[0]\n",
    "    path_atm\n",
    "    ds_atm = xr.open_dataset(path_atm, use_cftime=True)\n",
    "\n",
    "    ds_final_grid = xr.Dataset(\n",
    "        {\n",
    "            \"lat\": ([\"lat\"], ds_atm.lat.values, {\"units\": \"degrees_north\"}),\n",
    "            \"lon\": ([\"lon\"], ds_atm.lon.values, {\"units\": \"degrees_east\"}),\n",
    "        }\n",
    "    )\n",
    "    print(\"Output grid created...\")\n",
    "\n",
    "    files_to_regrid = sorted(glob.glob(f'/work/Katherine.Turner/tempest-extremes/{expname}/data/*.{varname}.nc'))\n",
    "    \n",
    "    for i in np.arange(len(files_to_regrid)):\n",
    "        #check to see if regridded file exists\n",
    "        file_out = files_to_regrid[i][:-3]+'.regrid.nc'\n",
    "        file_out_tail = file_out.split('/data/')[-1]\n",
    "    \n",
    "        if os.path.isfile(file_out):\n",
    "            print(f\"{file_out_tail} exists. Continuing...\")\n",
    "        \n",
    "        else:\n",
    "            print(f\"{file_out_tail} does not exist. Regridding...\")\n",
    "        \n",
    "            ds_in = xr.open_dataset(files_to_regrid[i], use_cftime=True)\n",
    "            da = ds_in[varname]\n",
    "            regridder = xe.Regridder(ds_in, ds_final_grid, \"bilinear\", periodic=True)\n",
    "            da_out = regridder(da)\n",
    "            \n",
    "            ds_out = da_out.to_dataset(name=varname)\n",
    "            ds_out.to_netcdf(file_out)"
   ]
  },
  {
   "cell_type": "code",
   "execution_count": null,
   "id": "4b16c387-b5ab-47c7-ad5e-19dbda999646",
   "metadata": {
    "jupyter": {
     "source_hidden": true
    },
    "tags": []
   },
   "outputs": [],
   "source": [
    "expname = 'odiv-251'\n",
    "varname = 'MLD_003'\n",
    "\n",
    "ocean_regrid(expname,varname)"
   ]
  },
  {
   "cell_type": "code",
   "execution_count": 7,
   "id": "e7da8f3b-9d64-4829-a94b-da4c6fd70c7f",
   "metadata": {},
   "outputs": [],
   "source": [
    "def update_composite_calendar(expname,varname):\n",
    "    if varname == \"t_ref\":\n",
    "        filepath = f\"/work/Katherine.Turner/tempest-extremes/{expname}/comp_temp/comp_{varname}.nc\"\n",
    "    elif varname == \"MLD_003\":\n",
    "        filepath = f\"/work/Katherine.Turner/tempest-extremes/{expname}/comp_MLD/impulse_comp_{varname}_anom.nc\" \n",
    "    else:\n",
    "        filepath = f\"/work/Katherine.Turner/tempest-extremes/{expname}/comp_{varname}/comp_{varname}_anom.nc\"\n",
    "    ds = Dataset(filepath, \"a\", format=\"NETCDF4\")\n",
    "\n",
    "    snap_time = ds.variables[\"snap_time\"]\n",
    "    snap_time.calendar = \"noleap\"\n",
    "    ds.close()"
   ]
  },
  {
   "cell_type": "code",
   "execution_count": 8,
   "id": "f01c05ee-7fad-4cac-9bc7-3a86f8e54635",
   "metadata": {
    "tags": []
   },
   "outputs": [],
   "source": [
    "update_composite_calendar(\"odiv-251\", 'MLD_003')"
   ]
  },
  {
   "cell_type": "code",
   "execution_count": 3,
   "id": "ea88abe3-dadf-40a0-98cb-77dca29f1faa",
   "metadata": {},
   "outputs": [],
   "source": [
    "filepath = f\"/work/Katherine.Turner/tempest-extremes/odiv-251/comp_hfds/comp_hfds_anom_static.nc\"\n",
    "\n",
    "ds = Dataset(filepath, \"a\", format=\"NETCDF4\")\n",
    "\n",
    "snap_time = ds.variables[\"snap_time\"]\n",
    "snap_time.calendar = \"noleap\"\n",
    "ds.close()"
   ]
  },
  {
   "cell_type": "code",
   "execution_count": null,
   "id": "81682b0e-f0a6-4721-b052-8ebba350ff4c",
   "metadata": {},
   "outputs": [],
   "source": []
  }
 ],
 "metadata": {
  "kernelspec": {
   "display_name": "Python 3 (ipykernel)",
   "language": "python",
   "name": "python3"
  },
  "language_info": {
   "codemirror_mode": {
    "name": "ipython",
    "version": 3
   },
   "file_extension": ".py",
   "mimetype": "text/x-python",
   "name": "python",
   "nbconvert_exporter": "python",
   "pygments_lexer": "ipython3",
   "version": "3.10.10"
  }
 },
 "nbformat": 4,
 "nbformat_minor": 5
}
