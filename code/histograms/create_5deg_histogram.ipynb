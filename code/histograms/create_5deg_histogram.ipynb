{
 "cells": [
  {
   "cell_type": "code",
   "execution_count": 1,
   "id": "59000b7b-ca15-4b76-9e38-5fef058ecc75",
   "metadata": {
    "tags": []
   },
   "outputs": [],
   "source": [
    "import pandas as pd\n",
    "import numpy as np\n",
    "import datetime\n",
    "import cftime\n",
    "import xarray as xr"
   ]
  },
  {
   "cell_type": "code",
   "execution_count": null,
   "id": "e25570d8-9c8f-4772-9add-102b70d6cd9d",
   "metadata": {
    "tags": []
   },
   "outputs": [],
   "source": [
    "def create_kernel():\n",
    "    lat = np.arange(-89.5,-34.5,1)\n",
    "    lon = np.arange(0.625, 359.875, 1.25)\n",
    "    time0 = cftime.DatetimeNoLeap(151,1,1,6)\n",
    "    time_delta = 0\n",
    "    i0 = 0\n",
    "    j0 = 0\n",
    "    mslp = 90000\n",
    "\n",
    "    output_file_static = f\"/work/Katherine.Turner/tempest-extremes/kernel/kernel_list.txt\"\n",
    "\n",
    "    with open(output_file_static, 'w') as out_file:\n",
    "        for i in lon:\n",
    "            for j in lat:    \n",
    "                tmask = time0 + datetime.timedelta(hours=int(time_delta))\n",
    "                time_delta +=6\n",
    "                entry_header = (int(tmask.strftime(\"%Y\")),int(tmask.strftime(\"%m\")),\n",
    "                                int(tmask.strftime(\"%d\")),int(tmask.strftime(\"%H\")))\n",
    "                entry_data = (i0,j0,i,j,mslp,\n",
    "                              int(tmask.strftime(\"%Y\")),int(tmask.strftime(\"%m\")),\n",
    "                              int(tmask.strftime(\"%d\")),int(tmask.strftime(\"%H\")))\n",
    "        \n",
    "                header = \"start\\t1\" + str(entry_header).replace(\"(\", \"\\t\").replace(\", \",\"\\t\").replace(\")\", \"\\n\")\n",
    "                out_file.write(header)\n",
    "                data = str(entry_data).replace(\"(\", \"\\t\").replace(\", \",\"\\t\").replace(\")\", \"\\n\")\n",
    "                out_file.write(data)"
   ]
  },
  {
   "cell_type": "code",
   "execution_count": null,
   "id": "96dd7cca-bfa4-4a98-b5b1-813e5701f620",
   "metadata": {
    "tags": []
   },
   "outputs": [],
   "source": [
    "def repeat_histogram(expname):\n",
    "    \"\"\"\n",
    "    Creates a histogram of storm nodes (using bins consistent with the c96 atmospheric edges) and creates a \n",
    "    repeated histogram with a time dimension. This can then be used with Tempest-Extremes to create a masked\n",
    "    3d histogram, which can then be summed over the area to create a smooth histogram that measures number\n",
    "    of nodes within 5 degrees of a location\n",
    "    \"\"\"\n",
    "    data = np.loadtxt(f\"/work/Katherine.Turner/tempest-extremes/{expname}/node_files/SH_stormtraj.csv\", delimiter=\"\\t\", skiprows=1)\n",
    "    \n",
    "    lat_edges = np.arange(-90,91,1)\n",
    "    lon_edges = np.arange(0, 360.1, 1.25)\n",
    "\n",
    "    lat = np.arange(-89.5,90, 1)\n",
    "    lon = np.arange(.625, 360, 1.25)\n",
    "\n",
    "    ds_kernel = xr.open_dataset(\"/work/Katherine.Turner/tempest-extremes/kernel/kernel_mask.nc\")\n",
    "    time_full = ds_kernel.time.data\n",
    "    \n",
    "    heatmap, xedges, yedges = np.histogram2d(data[:,6], data[:,5], bins=[lat_edges, lon_edges])\n",
    "    \n",
    "    heatmap_3d = np.expand_dims(heatmap, 2)\n",
    "    heatmap_3d_repeat = np.repeat(heatmap_3d, 21900, axis=2)\n",
    "\n",
    "    da = xr.DataArray(\n",
    "        data = np.transpose(heatmap_3d_repeat[:,:,:15840], axes=[2,0,1]),\n",
    "        dims = [\"time\", \"lat\", \"lon\"],\n",
    "        coords = dict(\n",
    "            lon = (\"lon\", lon),\n",
    "            lat = (\"lat\", lat),\n",
    "            time = (\"time\", time_full[:15840])\n",
    "        ),\n",
    "        attrs = dict(\n",
    "            description=f\"Storm density in {expname}\"\n",
    "        )\n",
    "    )\n",
    "\n",
    "    ds_out = da.to_dataset(name=\"storm_dens\")\n",
    "    ds_out.to_netcdf(f\"/work/Katherine.Turner/tempest-extremes/kernel/histogram_{expname}_3d.nc\")"
   ]
  },
  {
   "cell_type": "code",
   "execution_count": null,
   "id": "0e45f52d-ad83-43e2-a8ba-4504922dd33d",
   "metadata": {
    "tags": []
   },
   "outputs": [],
   "source": [
    "repeat_histogram(\"odiv-251\")"
   ]
  },
  {
   "cell_type": "code",
   "execution_count": 14,
   "id": "80f0a145-c263-4a3f-bbd1-21af2c7e8506",
   "metadata": {
    "tags": []
   },
   "outputs": [],
   "source": [
    "def create_smooth_histogram(expname):\n",
    "    ds = xr.open_dataset(f'/work/Katherine.Turner/tempest-extremes/kernel/mhist_{expname}_3d.nc', use_cftime = True)\n",
    "    \n",
    "    hist_out = np.reshape(ds.storm_dens.sum(dim=[\"lat\", \"lon\"]).data / (95*12), (288,55)).T\n",
    "    \n",
    "    lat_full = np.arange(-89.5,90, 1)\n",
    "    lat = lat_full[:55]\n",
    "    lon = np.arange(.625, 360, 1.25)\n",
    "    \n",
    "    da = xr.DataArray(\n",
    "        data = hist_out,\n",
    "        dims = [\"lat\", \"lon\"],\n",
    "        coords = dict(\n",
    "            lon = (\"lon\", lon),\n",
    "            lat = (\"lat\", lat)\n",
    "        ),\n",
    "        attrs = dict(\n",
    "            description=f\"5 degree density (storms per month) for {expname}\"\n",
    "        )\n",
    "    )\n",
    "    ds_out = da.to_dataset(name=\"hist_5deg\")\n",
    "    ds_out.to_netcdf(f\"/work/Katherine.Turner/tempest-extremes/kernel/hist5deg_{expname}.nc\")"
   ]
  },
  {
   "cell_type": "code",
   "execution_count": 15,
   "id": "5a8abbf7-2936-4022-a372-53c6d5268dd3",
   "metadata": {
    "tags": []
   },
   "outputs": [],
   "source": [
    "create_smooth_histogram(\"odiv-251\")"
   ]
  }
 ],
 "metadata": {
  "kernelspec": {
   "display_name": "Python 3 (ipykernel)",
   "language": "python",
   "name": "python3"
  },
  "language_info": {
   "codemirror_mode": {
    "name": "ipython",
    "version": 3
   },
   "file_extension": ".py",
   "mimetype": "text/x-python",
   "name": "python",
   "nbconvert_exporter": "python",
   "pygments_lexer": "ipython3",
   "version": "3.10.10"
  }
 },
 "nbformat": 4,
 "nbformat_minor": 5
}
