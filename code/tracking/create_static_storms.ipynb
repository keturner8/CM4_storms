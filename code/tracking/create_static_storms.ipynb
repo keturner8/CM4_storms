{
 "cells": [
  {
   "cell_type": "code",
   "execution_count": 1,
   "id": "59000b7b-ca15-4b76-9e38-5fef058ecc75",
   "metadata": {
    "tags": []
   },
   "outputs": [],
   "source": [
    "import pandas as pd\n",
    "import numpy as np\n",
    "import datetime\n",
    "import cftime"
   ]
  },
  {
   "cell_type": "code",
   "execution_count": 2,
   "id": "a17ac67f-fabb-473f-8e9c-19816dd13ce2",
   "metadata": {
    "tags": []
   },
   "outputs": [],
   "source": [
    "experiment = \"ESM4\"\n",
    "start_year = {\"ESM4\":1}\n",
    "end_year = {\"ESM4\":100}\n",
    "\n",
    "file = open(f\"/work/Katherine.Turner/tempest-extremes/{experiment}/node_files/SH_stormtraj.txt\", 'r')\n",
    "lines = file.readlines()"
   ]
  },
  {
   "cell_type": "code",
   "execution_count": 3,
   "id": "565027bd-4ae9-46d5-9abd-15749d03fd60",
   "metadata": {
    "tags": []
   },
   "outputs": [],
   "source": [
    "master_list = []\n",
    "storm_entry = []\n",
    "for line in lines:\n",
    "    if line.startswith(\"start\"):\n",
    "        master_list.append(storm_entry)\n",
    "        storm_entry = []\n",
    "    else:\n",
    "        storm_entry.append(line)"
   ]
  },
  {
   "cell_type": "code",
   "execution_count": 4,
   "id": "80b5e760-4175-4836-9d56-b739a50222ba",
   "metadata": {
    "tags": []
   },
   "outputs": [],
   "source": [
    "master_list = [x for x in master_list if len(x) > 0]"
   ]
  },
  {
   "cell_type": "code",
   "execution_count": 5,
   "id": "2b4eb245-9a97-4988-b62e-0c108a1d7102",
   "metadata": {
    "tags": []
   },
   "outputs": [
    {
     "data": {
      "text/plain": [
       "'\\t49\\t37\\t61.875000\\t-52.500000\\t9.725326e+04\\t1\\t1\\t1\\t6\\n'"
      ]
     },
     "execution_count": 5,
     "metadata": {},
     "output_type": "execute_result"
    }
   ],
   "source": [
    "master_list[0][0]"
   ]
  },
  {
   "cell_type": "code",
   "execution_count": 6,
   "id": "d74d3708-ccc0-461c-9379-f9bfcf988105",
   "metadata": {
    "tags": []
   },
   "outputs": [
    {
     "data": {
      "text/plain": [
       "'\\t242\\t49\\t303.125000\\t-40.500000\\t9.983727e+04\\t100\\t12\\t25\\t0\\n'"
      ]
     },
     "execution_count": 6,
     "metadata": {},
     "output_type": "execute_result"
    }
   ],
   "source": [
    "master_list[-1][0]"
   ]
  },
  {
   "cell_type": "code",
   "execution_count": 7,
   "id": "1c0b4ce8-f07a-4c59-b9a3-370e93f1d2db",
   "metadata": {
    "tags": []
   },
   "outputs": [
    {
     "data": {
      "text/plain": [
       "100"
      ]
     },
     "execution_count": 7,
     "metadata": {},
     "output_type": "execute_result"
    }
   ],
   "source": [
    "test = int(master_list[-1][0].replace(\"\\n\",\"\").split(\"\\t\")[-4])\n",
    "test"
   ]
  },
  {
   "cell_type": "code",
   "execution_count": 8,
   "id": "95e05af4-c400-476e-aec7-2a96875d2788",
   "metadata": {
    "tags": []
   },
   "outputs": [],
   "source": [
    "def process_storm_ESM4(timelist):\n",
    "    df = pd.DataFrame([x.replace(\"\\n\",\"\").split(\"\\t\") for x in timelist if len(x)],\n",
    "                      columns=[\"null\",\"i\",\"j\",\"lon\",\"lat\",\"mslp\",\"year\",\"month\",\"day\",\"hour\"])\n",
    "    \n",
    "    rowmin = df[df.mslp == df.mslp.min()]\n",
    "    \n",
    "    if len(rowmin) > 1:\n",
    "        rowmin = rowmin.iloc[[0]]\n",
    "    \n",
    "    i = int(rowmin.i.values)\n",
    "    j = int(rowmin.j.values)\n",
    "    lat = float(rowmin.lat.values)\n",
    "    lon = float(rowmin.lon.values)\n",
    "    mslp = float(rowmin.mslp.values)\n",
    "    #maxwind = float(rowmin.maxwind.values)\n",
    "\n",
    "    tobj = cftime.DatetimeNoLeap(int(rowmin.year),int(rowmin.month),int(rowmin.day),int(rowmin.hour))\n",
    "\n",
    "    times = np.arange(0,11)\n",
    "    times = [tobj + datetime.timedelta(days=int(x)) for x in times]\n",
    "\n",
    "    new_entries = [(i,j,lon,lat,mslp,int(x.strftime(\"%Y\")),int(x.strftime(\"%m\")),int(x.strftime(\"%d\")),int(x.strftime(\"%H\"))) for x in times]\n",
    "    \n",
    "    return new_entries\n",
    "\n",
    "def process_storm(timelist):\n",
    "    df = pd.DataFrame([x.replace(\"\\n\",\"\").split(\"\\t\") for x in timelist if len(x)],\n",
    "                      columns=[\"null\",\"i\",\"j\",\"lon\",\"lat\",\"mslp\",\"maxwind\",\"year\",\"month\",\"day\",\"hour\"])\n",
    "    \n",
    "    rowmin = df[df.mslp == df.mslp.min()]\n",
    "    \n",
    "    if len(rowmin) > 1:\n",
    "        rowmin = rowmin.iloc[[0]]\n",
    "    \n",
    "    i = int(rowmin.i.values)\n",
    "    j = int(rowmin.j.values)\n",
    "    lat = float(rowmin.lat.values)\n",
    "    lon = float(rowmin.lon.values)\n",
    "    mslp = float(rowmin.mslp.values)\n",
    "    maxwind = float(rowmin.maxwind.values)\n",
    "\n",
    "    tobj = cftime.DatetimeNoLeap(int(rowmin.year),int(rowmin.month),int(rowmin.day),int(rowmin.hour))\n",
    "\n",
    "    times = np.arange(0,11)\n",
    "    times = [tobj + datetime.timedelta(days=int(x)) for x in times]\n",
    "\n",
    "    new_entries = [(i,j,lon,lat,mslp,maxwind,int(x.strftime(\"%Y\")),int(x.strftime(\"%m\")),int(x.strftime(\"%d\")),int(x.strftime(\"%H\"))) for x in times]\n",
    "    \n",
    "    return new_entries\n",
    "\n",
    "def process_storm_Amund(timelist):\n",
    "    df = pd.DataFrame([x.replace(\"\\n\",\"\").split(\"\\t\") for x in timelist if len(x)],\n",
    "                      columns=[\"null\",\"i\",\"j\",\"lon\",\"lat\",\"mslp\",\"maxwind\",\"year\",\"month\",\"day\",\"hour\"])\n",
    "    \n",
    "    rowmin = df[df.mslp == df.mslp.min()]\n",
    "    \n",
    "    if len(rowmin) > 1:\n",
    "        rowmin = rowmin.iloc[[0]]\n",
    "    \n",
    "    i = int(rowmin.i.values)\n",
    "    j = int(rowmin.j.values)\n",
    "    lat = float(rowmin.lat.values)\n",
    "    lon = float(rowmin.lon.values)\n",
    "    mslp = float(rowmin.mslp.values)\n",
    "    maxwind = float(rowmin.maxwind.values)\n",
    "    \n",
    "    if (mslp > 93000) | (lat > -55) | (lat < -70) | (lon < 220) | (lon > 290):\n",
    "        return\n",
    "\n",
    "    tobj = cftime.DatetimeNoLeap(int(rowmin.year),int(rowmin.month),int(rowmin.day),int(rowmin.hour))\n",
    "    times = np.arange(0,11)\n",
    "    times = [tobj + datetime.timedelta(days=int(x)) for x in times]\n",
    "\n",
    "    new_entries = [(i,j,lon,lat,mslp,maxwind,int(x.strftime(\"%Y\")),int(x.strftime(\"%m\")),int(x.strftime(\"%d\")),int(x.strftime(\"%H\"))) for x in times]\n",
    "    \n",
    "    return new_entries"
   ]
  },
  {
   "cell_type": "code",
   "execution_count": 9,
   "id": "ad596f2c-e0a5-40ef-aa0d-34c74483768f",
   "metadata": {
    "tags": []
   },
   "outputs": [],
   "source": [
    "test_static = [process_storm_ESM4(x) for x in master_list]\n",
    "\n",
    "#test_static = [process_storm_Amund(x) for x in master_list]\n",
    "#test_static = [entry for entry in test_static if entry is not None]"
   ]
  },
  {
   "cell_type": "code",
   "execution_count": 10,
   "id": "7efe7b50-a4b6-4790-b674-7f6cb0d870cf",
   "metadata": {
    "tags": []
   },
   "outputs": [
    {
     "data": {
      "text/plain": [
       "'start\\t11\\t1\\t1\\t4\\t6\\n'"
      ]
     },
     "execution_count": 10,
     "metadata": {},
     "output_type": "execute_result"
    }
   ],
   "source": [
    "test_date = \"start\\t11\" + str(test_static[0][0][-4:]).replace(\"(\", \"\\t\").replace(\", \",\"\\t\").replace(\")\", \"\\n\")\n",
    "test_date"
   ]
  },
  {
   "cell_type": "code",
   "execution_count": 11,
   "id": "31840ff2-4ce3-4987-b6ad-fcefb30231e1",
   "metadata": {
    "tags": []
   },
   "outputs": [
    {
     "data": {
      "text/plain": [
       "1"
      ]
     },
     "execution_count": 11,
     "metadata": {},
     "output_type": "execute_result"
    }
   ],
   "source": [
    "test_static[0][0][-4]"
   ]
  },
  {
   "cell_type": "code",
   "execution_count": 12,
   "id": "5a9bf050-0a86-47b9-8520-1b988570ca91",
   "metadata": {
    "tags": []
   },
   "outputs": [
    {
     "name": "stdout",
     "output_type": "stream",
     "text": [
      "(50, 29, 63.125, -60.5, 96459.85, 1, 1, 4, 6)\n",
      "(50, 29, 63.125, -60.5, 96459.85, 1, 1, 5, 6)\n",
      "(50, 29, 63.125, -60.5, 96459.85, 1, 1, 6, 6)\n",
      "(50, 29, 63.125, -60.5, 96459.85, 1, 1, 7, 6)\n",
      "(50, 29, 63.125, -60.5, 96459.85, 1, 1, 8, 6)\n",
      "(50, 29, 63.125, -60.5, 96459.85, 1, 1, 9, 6)\n",
      "(50, 29, 63.125, -60.5, 96459.85, 1, 1, 10, 6)\n",
      "(50, 29, 63.125, -60.5, 96459.85, 1, 1, 11, 6)\n",
      "(50, 29, 63.125, -60.5, 96459.85, 1, 1, 12, 6)\n",
      "(50, 29, 63.125, -60.5, 96459.85, 1, 1, 13, 6)\n",
      "(50, 29, 63.125, -60.5, 96459.85, 1, 1, 14, 6)\n"
     ]
    }
   ],
   "source": [
    "for line in test_static[0]:\n",
    "    print(line)"
   ]
  },
  {
   "cell_type": "code",
   "execution_count": 13,
   "id": "eab137eb-1f0d-434a-b052-2e0f10658687",
   "metadata": {
    "tags": []
   },
   "outputs": [],
   "source": [
    "output_file_static = f\"/work/Katherine.Turner/tempest-extremes/{experiment}/node_files/SH_static_storms.txt\"\n",
    "\n",
    "with open(output_file_static, 'w') as out_file:\n",
    "    \n",
    "    for storm in test_static:\n",
    "        if ((storm[0][-4] >= start_year[experiment]) & (storm[-1][-4] <= end_year[experiment])):\n",
    "            storm_header = \"start\\t11\" + str(storm[0][-4:]).replace(\"(\", \"\\t\").replace(\", \",\"\\t\").replace(\")\", \"\\n\")\n",
    "            out_file.write(storm_header)\n",
    "            for storm_line in storm:\n",
    "                line_data = str(storm_line).replace(\"(\", \"\\t\").replace(\", \",\"\\t\").replace(\")\", \"\\n\")\n",
    "                out_file.write(line_data)"
   ]
  },
  {
   "cell_type": "code",
   "execution_count": null,
   "id": "e25570d8-9c8f-4772-9add-102b70d6cd9d",
   "metadata": {},
   "outputs": [],
   "source": []
  }
 ],
 "metadata": {
  "kernelspec": {
   "display_name": "Python 3 (ipykernel)",
   "language": "python",
   "name": "python3"
  },
  "language_info": {
   "codemirror_mode": {
    "name": "ipython",
    "version": 3
   },
   "file_extension": ".py",
   "mimetype": "text/x-python",
   "name": "python",
   "nbconvert_exporter": "python",
   "pygments_lexer": "ipython3",
   "version": "3.10.10"
  }
 },
 "nbformat": 4,
 "nbformat_minor": 5
}
