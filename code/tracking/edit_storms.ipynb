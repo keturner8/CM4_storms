{
 "cells": [
  {
   "cell_type": "code",
   "execution_count": 1,
   "id": "7b31ff24-71bd-487a-b593-8e05090ffa70",
   "metadata": {
    "tags": []
   },
   "outputs": [],
   "source": [
    "import cftime\n",
    "import csv\n",
    "import datetime\n",
    "import numpy as np\n",
    "import pandas as pd"
   ]
  },
  {
   "cell_type": "code",
   "execution_count": 7,
   "id": "1848fe38-d0c7-495c-809c-0b579c6bcfce",
   "metadata": {
    "tags": []
   },
   "outputs": [],
   "source": [
    "expname = \"odiv-251\"\n",
    "\n",
    "create_csv(expname)\n",
    "create_static_storms(expname)"
   ]
  },
  {
   "cell_type": "code",
   "execution_count": 3,
   "id": "a0d96141-72e9-4fa6-9865-7806dc2e555d",
   "metadata": {
    "tags": []
   },
   "outputs": [],
   "source": [
    "def create_csv(expname):\n",
    "\n",
    "    pfile_in  = f\"/work/Katherine.Turner/tempest-extremes/{expname}/node_files/SH_SN.txt\"\n",
    "    pfile_out = f\"/work/Katherine.Turner/tempest-extremes/{expname}/node_files/SH_SN.csv\"\n",
    "\n",
    "    event = 0\n",
    "\n",
    "    # Open input and output files\n",
    "    with open(pfile_in, \"r\") as file_in, open(pfile_out, \"w\", newline=\"\") as file_out:\n",
    "        reader = csv.reader(file_in, delimiter=\"\\t\")\n",
    "        writer = csv.writer(file_out, delimiter=\"\\t\")\n",
    "\n",
    "        # Write header for the output file\n",
    "        writer.writerow([\"Event\", \"Year\", \"Month\", \"Day\", \"Time\", \"Lon\", \"Lat\", \"SLP\", \"Windspeed\"])\n",
    "\n",
    "        # Iterate over each line in the input file\n",
    "        for line in reader:\n",
    "            # Check if the line contains date information\n",
    "            if len(line) < 7:\n",
    "                event = event + 1  # Update event number\n",
    "            if len(line) >= 7: \n",
    "                slp, wind, yr, mo, day, time = line[-6:]\n",
    "                lon, lat = line[3:5]\n",
    "                writer.writerow([event, yr, mo, day, time, lon, lat, slp, wind])"
   ]
  },
  {
   "cell_type": "code",
   "execution_count": 6,
   "id": "5394d08b-ba6f-4d8b-ad13-4eb5f328b73c",
   "metadata": {},
   "outputs": [],
   "source": [
    "def create_static_storms(expname):\n",
    "    file = open(f\"/work/Katherine.Turner/tempest-extremes/{expname}/node_files/SH_SN.txt\", 'r')\n",
    "    lines = file.readlines()\n",
    "    \n",
    "    master_list = []\n",
    "    storm_entry = []\n",
    "    for line in lines:\n",
    "        if line.startswith(\"start\"):\n",
    "            master_list.append(storm_entry)\n",
    "            storm_entry = []\n",
    "        else:\n",
    "            storm_entry.append(line)\n",
    "            \n",
    "    master_list = [x for x in master_list if len(x) > 0]\n",
    "    static_master = [process_storm(x) for x in master_list]\n",
    "    \n",
    "    output_file_static = f\"/work/Katherine.Turner/tempest-extremes/{expname}/node_files/SH_static.txt\"\n",
    "    \n",
    "    # create limits for time period so that we don't have static storms that start before or end after the available data\n",
    "    time0 = int(master_list[0][0].replace(\"\\n\",\"\").split(\"\\t\")[-4])\n",
    "    time1 = int(master_list[-1][0].replace(\"\\n\",\"\").split(\"\\t\")[-4])\n",
    "\n",
    "    with open(output_file_static, 'w') as out_file:\n",
    "        for storm in static_master:\n",
    "            if ((storm[0][-4] >= time0) & (storm[-1][-4] <= time1)):\n",
    "                storm_header = \"start\\t11\" + str(storm[0][-4:]).replace(\"(\", \"\\t\").replace(\", \",\"\\t\").replace(\")\", \"\\n\")\n",
    "                out_file.write(storm_header)\n",
    "                for storm_line in storm:\n",
    "                    line_data = str(storm_line).replace(\"(\", \"\\t\").replace(\", \",\"\\t\").replace(\")\", \"\\n\")\n",
    "                    out_file.write(line_data)"
   ]
  },
  {
   "cell_type": "code",
   "execution_count": 5,
   "id": "57a73571-0bf2-4937-9e85-86beb36bb7cb",
   "metadata": {
    "tags": []
   },
   "outputs": [],
   "source": [
    "def process_storm(timelist):\n",
    "    df = pd.DataFrame([x.replace(\"\\n\",\"\").split(\"\\t\") for x in timelist if len(x)],\n",
    "                      columns=[\"null\",\"i\",\"j\",\"lon\",\"lat\",\"mslp\",\"maxwind\",\"year\",\"month\",\"day\",\"hour\"])\n",
    "    \n",
    "    rowmin = df[df.mslp == df.mslp.min()]\n",
    "    \n",
    "    if len(rowmin) > 1:\n",
    "        rowmin = rowmin.iloc[[0]]\n",
    "    \n",
    "    i = int(rowmin.i.values)\n",
    "    j = int(rowmin.j.values)\n",
    "    lat = float(rowmin.lat.values)\n",
    "    lon = float(rowmin.lon.values)\n",
    "    mslp = float(rowmin.mslp.values)\n",
    "    maxwind = float(rowmin.maxwind.values)\n",
    "\n",
    "    tobj = cftime.DatetimeNoLeap(int(rowmin.year),int(rowmin.month),int(rowmin.day),int(rowmin.hour))\n",
    "\n",
    "    times = np.arange(0,11)\n",
    "    times = [tobj + datetime.timedelta(days=int(x)) for x in times]\n",
    "\n",
    "    new_entries = [(i,j,lon,lat,mslp,maxwind,int(x.strftime(\"%Y\")),int(x.strftime(\"%m\")),int(x.strftime(\"%d\")),int(x.strftime(\"%H\"))) for x in times]\n",
    "    \n",
    "    return new_entries"
   ]
  }
 ],
 "metadata": {
  "kernelspec": {
   "display_name": "Python 3 (ipykernel)",
   "language": "python",
   "name": "python3"
  },
  "language_info": {
   "codemirror_mode": {
    "name": "ipython",
    "version": 3
   },
   "file_extension": ".py",
   "mimetype": "text/x-python",
   "name": "python",
   "nbconvert_exporter": "python",
   "pygments_lexer": "ipython3",
   "version": "3.10.10"
  }
 },
 "nbformat": 4,
 "nbformat_minor": 5
}
