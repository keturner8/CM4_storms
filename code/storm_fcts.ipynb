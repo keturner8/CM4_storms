{
 "cells": [
  {
   "cell_type": "code",
   "execution_count": null,
   "id": "8f75bdc7-bdc4-4b95-b9f1-de9b9fb445be",
   "metadata": {},
   "outputs": [],
   "source": [
    "def mask_composite(ds, start_year=0, min_lat=-90, max_lat=90, min_lon=0, max_lon=360):\n",
    "    X = np.meshgrid(ds.x.data,ds.y.data)\n",
    "    mask = xr.DataArray(np.sqrt(X[0]**2 + X[1]**2) <= 10, dims=['x', 'y'])\n",
    "    \n",
    "    idx_region = (ds.snap_time.dt.year > start_year) & (ds.snap_lat >= min_lat) & (ds.snap_lat <= max_lat) & \\\n",
    "    (ds.snap_lon >= min_lon) & (ds.snap_lon <= max_lon)\n",
    "    \n",
    "    test = ds.snap_omldamax_anom[idx_region,:,:]\n",
    "    test = xr.where(abs(test)>1e10, np.nan, test)\n",
    "    test = xr.where(test==0, np.nan, test)\n",
    "\n",
    "    out_masked = xr.where(mask, test, np.nan)\n",
    "    return out_masked"
   ]
  },
  {
   "cell_type": "code",
   "execution_count": null,
   "id": "4150f7ee-4d1d-4866-b424-b50f3f836c44",
   "metadata": {},
   "outputs": [],
   "source": [
    "def sel_storms_region(ds, compvar  = \"omldamax\", lon1 = 0, lon2 = 360, lat1 = -90, lat2 = 90):\n",
    "    compvar_full = f\"snap_{compvar}_anom\"\n",
    "    \n",
    "    # if longitude region crosses prime meridian we need to re-evaluate this\n",
    "    idx_reg = (ds.snap_lat > lat1) & (ds.snap_lat < lat2) & (ds.snap_lon > lon1) & (ds.snap_lon < lon2)\n",
    "    \n",
    "    subsamp = ds[compvar_full][idx_reg,:,:]\n",
    "    subsamp = xr.where((abs(subsamp) > 1e10) | (subsamp == 0), np.nan, subsamp)\n",
    "    \n",
    "    X = np.meshgrid(ds.x.data,ds.y.data)\n",
    "    mask = xr.DataArray(np.sqrt(X[0]**2 + X[1]**2) <= 10, dims=['x', 'y'])\n",
    "    var_out = xr.where(mask, subsamp, np.nan)\n",
    "    \n",
    "    return var_out"
   ]
  }
 ],
 "metadata": {
  "kernelspec": {
   "display_name": "Python 3 (ipykernel)",
   "language": "python",
   "name": "python3"
  },
  "language_info": {
   "codemirror_mode": {
    "name": "ipython",
    "version": 3
   },
   "file_extension": ".py",
   "mimetype": "text/x-python",
   "name": "python",
   "nbconvert_exporter": "python",
   "pygments_lexer": "ipython3",
   "version": "3.10.10"
  }
 },
 "nbformat": 4,
 "nbformat_minor": 5
}
